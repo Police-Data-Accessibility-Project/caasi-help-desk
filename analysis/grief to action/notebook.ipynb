{
 "cells": [
  {
   "cell_type": "code",
   "execution_count": null,
   "id": "5a5b0c57",
   "metadata": {},
   "outputs": [],
   "source": [
    "\n",
    "import matplotlib.pyplot as plt\n",
    "import numpy as np\n"
   ]
  },
  {
   "cell_type": "code",
   "execution_count": null,
   "id": "8009fc73",
   "metadata": {},
   "outputs": [],
   "source": [
    "\n",
    "# Generating a sequence of numbers from 0 to 10 for the x-axis\n",
    "x = np.linspace(0, 10, 100)\n",
    "# Creating a simple function for the y-axis data\n",
    "y = np.sin(x)\n"
   ]
  },
  {
   "cell_type": "code",
   "execution_count": null,
   "id": "9796005b",
   "metadata": {},
   "outputs": [],
   "source": [
    "\n",
    "plt.figure(figsize=(10, 6))\n",
    "plt.plot(x, y, '-r', label='sin(x)')\n",
    "plt.title('Simple Graph of sin(x)')\n",
    "plt.xlabel('X axis')\n",
    "plt.ylabel('Y axis')\n",
    "plt.legend(loc='upper right')\n",
    "plt.grid(True)\n",
    "plt.show()\n"
   ]
  }
 ],
 "metadata": {},
 "nbformat": 4,
 "nbformat_minor": 5
}
