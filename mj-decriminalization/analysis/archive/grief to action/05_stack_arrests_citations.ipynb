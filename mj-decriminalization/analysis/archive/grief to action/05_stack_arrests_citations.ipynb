{
  "cells": [
    {
      "cell_type": "markdown",
      "metadata": {
        "id": "KzYRLqcWOnJ1"
      },
      "source": [
        "# Grief to Action Python Workshop: Feb 20, 2024\n",
        "\n",
        "## Pittsburgh Police Arrest Data\n",
        "Data</br>\n",
        "https://data.wprdc.org/dataset/arrest-data/resource/e03a89dd-134a-4ee8-a2bd-62c40aeebc6f?inner_span=True</br></br>\n",
        "Data Dictionary</br>\n",
        "https://data.wprdc.org/dataset/arrest-data/resource/e554650d-f48f-49b2-88f3-e19878a1c245?inner_span=True</br></br>\n",
        "\n",
        "## Pittsburgh Police Non-Traffic Citation Data\n",
        "Data</br>\n",
        "https://data.wprdc.org/dataset/non-traffic-citations/resource/6b11e87d-1216-463d-bbd3-37460e539d86</br></br>\n",
        "Data Dictionary</br>\n",
        "https://data.wprdc.org/dataset/non-traffic-citations/resource/ec71e915-cd01-4281-86c0-2d3a06701616\n",
        "\n",
        "\n",
        "## Objectives of this Notebook\n",
        "\n",
        "After reviewing this notebook, you will establish a foundation for further learning and exploration of the following concepts\n",
        "\n",
        "*   Combine arrest and citation datasets"
      ]
    },
    {
      "cell_type": "markdown",
      "metadata": {
        "id": "cKfK1i_5qozE"
      },
      "source": [
        "## Import packages\n",
        "\n",
        "https://learnpython.com/blog/python-libraries-for-beginners/"
      ]
    },
    {
      "cell_type": "code",
      "execution_count": 1,
      "metadata": {
        "id": "q4KYgK60OOZc"
      },
      "outputs": [],
      "source": [
        "import pandas as pd\n",
        "import numpy as np\n",
        "import seaborn as sns\n",
        "\n",
        "import matplotlib.pyplot as plt"
      ]
    },
    {
      "cell_type": "markdown",
      "metadata": {
        "id": "--ZvUU9X4-jq"
      },
      "source": [
        "### Connect to Google Drive"
      ]
    },
    {
      "cell_type": "code",
      "execution_count": 2,
      "metadata": {
        "colab": {
          "base_uri": "https://localhost:8080/"
        },
        "id": "R0wrbXzM4-sx",
        "outputId": "b5f5bbb8-cb9d-4ede-ead5-c13e6f54e1f3"
      },
      "outputs": [
        {
          "output_type": "stream",
          "name": "stdout",
          "text": [
            "Drive already mounted at /content/drive; to attempt to forcibly remount, call drive.mount(\"/content/drive\", force_remount=True).\n"
          ]
        }
      ],
      "source": [
        "from google.colab import drive\n",
        "drive.mount('/content/drive')"
      ]
    },
    {
      "cell_type": "markdown",
      "metadata": {
        "id": "cBcjlLM0HhgH"
      },
      "source": [
        "## Read WPRDC arrest data"
      ]
    },
    {
      "cell_type": "code",
      "execution_count": 3,
      "metadata": {
        "id": "SHypE1KPghVS"
      },
      "outputs": [],
      "source": [
        "arr_url = 'https://raw.githubusercontent.com/trailmarkerlib/pythonWorkshop/main/data/e03a89dd-134a-4ee8-a2bd-62c40aeebc6f.csv'"
      ]
    },
    {
      "cell_type": "code",
      "execution_count": 4,
      "metadata": {
        "id": "m6O36SeKIw-f"
      },
      "outputs": [],
      "source": [
        "arr_df = pd.read_csv(arr_url, low_memory = False)"
      ]
    },
    {
      "cell_type": "code",
      "execution_count": 5,
      "metadata": {
        "colab": {
          "base_uri": "https://localhost:8080/"
        },
        "id": "x3WdVWoMHgzN",
        "outputId": "302e246a-1fea-4872-f0c2-473b6a2df183"
      },
      "outputs": [
        {
          "output_type": "stream",
          "name": "stdout",
          "text": [
            "<class 'pandas.core.frame.DataFrame'>\n",
            "RangeIndex: 65659 entries, 0 to 65658\n",
            "Data columns (total 17 columns):\n",
            " #   Column                 Non-Null Count  Dtype  \n",
            "---  ------                 --------------  -----  \n",
            " 0   _id                    65659 non-null  int64  \n",
            " 1   PK                     65659 non-null  int64  \n",
            " 2   CCR                    65659 non-null  int64  \n",
            " 3   AGE                    65256 non-null  float64\n",
            " 4   GENDER                 65659 non-null  object \n",
            " 5   RACE                   65659 non-null  object \n",
            " 6   ARRESTTIME             65659 non-null  object \n",
            " 7   ARRESTLOCATION         65659 non-null  object \n",
            " 8   OFFENSES               65656 non-null  object \n",
            " 9   INCIDENTLOCATION       65659 non-null  object \n",
            " 10  INCIDENTNEIGHBORHOOD   63199 non-null  object \n",
            " 11  INCIDENTZONE           65559 non-null  object \n",
            " 12  INCIDENTTRACT          63222 non-null  float64\n",
            " 13  COUNCIL_DISTRICT       55592 non-null  float64\n",
            " 14  PUBLIC_WORKS_DIVISION  55592 non-null  float64\n",
            " 15  X                      56607 non-null  float64\n",
            " 16  Y                      56607 non-null  float64\n",
            "dtypes: float64(6), int64(3), object(8)\n",
            "memory usage: 8.5+ MB\n"
          ]
        }
      ],
      "source": [
        "arr_df.info()"
      ]
    },
    {
      "cell_type": "markdown",
      "metadata": {
        "id": "T-vpPXyhk_zb"
      },
      "source": [
        "## Read WPRDC non-traffic citation data"
      ]
    },
    {
      "cell_type": "code",
      "execution_count": 6,
      "metadata": {
        "id": "TT-aunN3k_zb"
      },
      "outputs": [],
      "source": [
        "cit_url = 'https://raw.githubusercontent.com/trailmarkerlib/pythonWorkshop/main/data/6b11e87d-1216-463d-bbd3-37460e539d86.csv'"
      ]
    },
    {
      "cell_type": "code",
      "execution_count": 7,
      "metadata": {
        "id": "7pErmBSSk_zc"
      },
      "outputs": [],
      "source": [
        "cit_df = pd.read_csv(cit_url, low_memory = False)"
      ]
    },
    {
      "cell_type": "code",
      "execution_count": 8,
      "metadata": {
        "colab": {
          "base_uri": "https://localhost:8080/"
        },
        "id": "UXf0qUREk_zc",
        "outputId": "197683ff-75ed-4455-dd20-6c388157a28f"
      },
      "outputs": [
        {
          "output_type": "stream",
          "name": "stdout",
          "text": [
            "<class 'pandas.core.frame.DataFrame'>\n",
            "RangeIndex: 16070 entries, 0 to 16069\n",
            "Data columns (total 16 columns):\n",
            " #   Column                 Non-Null Count  Dtype  \n",
            "---  ------                 --------------  -----  \n",
            " 0   _id                    16070 non-null  int64  \n",
            " 1   PK                     16070 non-null  int64  \n",
            " 2   CCR                    16070 non-null  object \n",
            " 3   GENDER                 16007 non-null  object \n",
            " 4   RACE                   15989 non-null  object \n",
            " 5   AGE                    15998 non-null  float64\n",
            " 6   CITEDTIME              16070 non-null  object \n",
            " 7   INCIDENTLOCATION       16070 non-null  object \n",
            " 8   OFFENSES               16070 non-null  object \n",
            " 9   NEIGHBORHOOD           15310 non-null  object \n",
            " 10  ZONE                   16070 non-null  object \n",
            " 11  INCIDENTTRACT          15314 non-null  object \n",
            " 12  COUNCIL_DISTRICT       14240 non-null  float64\n",
            " 13  PUBLIC_WORKS_DIVISION  14240 non-null  float64\n",
            " 14  X                      14279 non-null  float64\n",
            " 15  Y                      14279 non-null  float64\n",
            "dtypes: float64(5), int64(2), object(9)\n",
            "memory usage: 2.0+ MB\n"
          ]
        }
      ],
      "source": [
        "cit_df.info()"
      ]
    },
    {
      "cell_type": "markdown",
      "metadata": {
        "id": "PjlOE-3Tk_zc"
      },
      "source": [
        "## Combine arrests and non-traffic citations datasets"
      ]
    },
    {
      "cell_type": "code",
      "execution_count": 9,
      "metadata": {
        "colab": {
          "base_uri": "https://localhost:8080/"
        },
        "id": "LgW-bQDb0uAO",
        "outputId": "0664c5dd-98c9-4762-ebf0-aafb0c07024e"
      },
      "outputs": [
        {
          "output_type": "execute_result",
          "data": {
            "text/plain": [
              "Index(['_id', 'PK', 'CCR', 'AGE', 'GENDER', 'RACE', 'ARRESTTIME',\n",
              "       'ARRESTLOCATION', 'OFFENSES', 'INCIDENTLOCATION',\n",
              "       'INCIDENTNEIGHBORHOOD', 'INCIDENTZONE', 'INCIDENTTRACT',\n",
              "       'COUNCIL_DISTRICT', 'PUBLIC_WORKS_DIVISION', 'X', 'Y'],\n",
              "      dtype='object')"
            ]
          },
          "metadata": {},
          "execution_count": 9
        }
      ],
      "source": [
        "arr_df.columns"
      ]
    },
    {
      "cell_type": "code",
      "execution_count": 10,
      "metadata": {
        "colab": {
          "base_uri": "https://localhost:8080/"
        },
        "id": "0kf0L3ahmOq1",
        "outputId": "f578f3ae-3a12-4791-d3e3-0185e483e44b"
      },
      "outputs": [
        {
          "output_type": "execute_result",
          "data": {
            "text/plain": [
              "['_id',\n",
              " 'PK',\n",
              " 'CCR',\n",
              " 'AGE',\n",
              " 'GENDER',\n",
              " 'RACE',\n",
              " 'ARRESTTIME',\n",
              " 'ARRESTLOCATION',\n",
              " 'OFFENSES',\n",
              " 'INCIDENTLOCATION',\n",
              " 'INCIDENTNEIGHBORHOOD',\n",
              " 'INCIDENTZONE',\n",
              " 'INCIDENTTRACT',\n",
              " 'COUNCIL_DISTRICT',\n",
              " 'PUBLIC_WORKS_DIVISION',\n",
              " 'X',\n",
              " 'Y']"
            ]
          },
          "metadata": {},
          "execution_count": 10
        }
      ],
      "source": [
        "arr_df.columns.tolist()"
      ]
    },
    {
      "cell_type": "code",
      "execution_count": 11,
      "metadata": {
        "colab": {
          "base_uri": "https://localhost:8080/"
        },
        "id": "pNQqNQfrmOoP",
        "outputId": "3375c36b-cfeb-448f-fe1c-89de71632935"
      },
      "outputs": [
        {
          "output_type": "execute_result",
          "data": {
            "text/plain": [
              "['_id',\n",
              " 'PK',\n",
              " 'CCR',\n",
              " 'GENDER',\n",
              " 'RACE',\n",
              " 'AGE',\n",
              " 'CITEDTIME',\n",
              " 'INCIDENTLOCATION',\n",
              " 'OFFENSES',\n",
              " 'NEIGHBORHOOD',\n",
              " 'ZONE',\n",
              " 'INCIDENTTRACT',\n",
              " 'COUNCIL_DISTRICT',\n",
              " 'PUBLIC_WORKS_DIVISION',\n",
              " 'X',\n",
              " 'Y']"
            ]
          },
          "metadata": {},
          "execution_count": 11
        }
      ],
      "source": [
        "cit_df.columns.tolist()"
      ]
    },
    {
      "cell_type": "code",
      "execution_count": 12,
      "metadata": {
        "id": "LV9TPf1W09yo"
      },
      "outputs": [],
      "source": [
        "arr_df2 = arr_df.rename(columns={'ARRESTTIME':'TIME'}).copy()"
      ]
    },
    {
      "cell_type": "code",
      "execution_count": 13,
      "metadata": {
        "id": "r4tXCZx41sVO"
      },
      "outputs": [],
      "source": [
        "cit_df2 = cit_df.rename(columns={'CITEDTIME':'TIME',\n",
        "                                 'ZONE':'INCIDENTZONE',\n",
        "                                 'NEIGHBORHOOD':'INCIDENTNEIGHBORHOOD'}).\\\n",
        "  copy()"
      ]
    },
    {
      "cell_type": "code",
      "execution_count": 14,
      "metadata": {
        "id": "hInDKXTu3RnF"
      },
      "outputs": [],
      "source": [
        "arr_df2['record_type'] = 'Arrest'"
      ]
    },
    {
      "cell_type": "code",
      "execution_count": 15,
      "metadata": {
        "id": "DE9OKUSm3RlB"
      },
      "outputs": [],
      "source": [
        "cit_df2['record_type'] = 'Citation'"
      ]
    },
    {
      "cell_type": "code",
      "execution_count": 16,
      "metadata": {
        "colab": {
          "base_uri": "https://localhost:8080/"
        },
        "id": "gg1qd0bT3kIh",
        "outputId": "18922f65-1db5-4292-9160-88685c7feebc"
      },
      "outputs": [
        {
          "output_type": "execute_result",
          "data": {
            "text/plain": [
              "array(['2016-08-22T23:45:00', '2016-08-25T11:10:00',\n",
              "       '2016-08-25T16:42:00', ..., '2023-09-30T23:32:00',\n",
              "       '2023-10-01T01:30:00', '2023-10-01T00:40:00'], dtype=object)"
            ]
          },
          "metadata": {},
          "execution_count": 16
        }
      ],
      "source": [
        "cit_df2['TIME'].unique()"
      ]
    },
    {
      "cell_type": "code",
      "execution_count": 17,
      "metadata": {
        "id": "4oe36ND_2ZiO"
      },
      "outputs": [],
      "source": [
        "concat_df = pd.concat([arr_df2, cit_df2], axis=0).copy()"
      ]
    },
    {
      "cell_type": "code",
      "execution_count": 18,
      "metadata": {
        "colab": {
          "base_uri": "https://localhost:8080/",
          "height": 538
        },
        "id": "pf1KN0h85GEg",
        "outputId": "0f017e67-4869-4e8a-fed3-7a7c5082f32e"
      },
      "outputs": [
        {
          "output_type": "execute_result",
          "data": {
            "text/plain": [
              "   _id       PK       CCR   AGE GENDER RACE                 TIME  \\\n",
              "0    1  1975272  16158872  42.0      F    B  2016-08-24T12:20:00   \n",
              "1    2  1974456  16144120  31.0      M    W  2016-08-03T14:55:00   \n",
              "2    3  1974466  16144165  63.0      F    B  2016-08-03T16:45:00   \n",
              "3    4  1974550  16145257  25.0      F    W  2016-08-05T02:36:00   \n",
              "4    5  1974596  16145962  25.0      M    B  2016-08-06T02:00:00   \n",
              "\n",
              "                                     ARRESTLOCATION  \\\n",
              "0         4700 Block Centre AV Pittsburgh, PA 15213   \n",
              "1  4200 Block Steubenville PKE Pittsburgh, PA 15205   \n",
              "2        900 Block Freeport RD Fox Chapel, PA 15238   \n",
              "3       Foreland ST & Cedar AV Pittsburgh, PA 15212   \n",
              "4         900 Block Woodlow ST Pittsburgh, PA 15205   \n",
              "\n",
              "                                            OFFENSES  \\\n",
              "0                                 3929 Retail Theft.   \n",
              "1       13(a)(16) Possession of Controlled Substance   \n",
              "2                                 3929 Retail Theft.   \n",
              "3  5503 Disorderly Conduct. / 5505 Public Drunken...   \n",
              "4  2702 Aggravated Assault. / 2705 Recklessy Enda...   \n",
              "\n",
              "                                   INCIDENTLOCATION INCIDENTNEIGHBORHOOD  \\\n",
              "0         4700 Block Centre AV Pittsburgh, PA 15213           Bloomfield   \n",
              "1  4200 Block Steubenville PKE Pittsburgh, PA 15205         Outside City   \n",
              "2        900 Block Freeport RD Fox Chapel, PA 15238             Westwood   \n",
              "3       Foreland ST & Cedar AV Pittsburgh, PA 15212       East Allegheny   \n",
              "4         900 Block Woodlow ST Pittsburgh, PA 15205      Crafton Heights   \n",
              "\n",
              "  INCIDENTZONE INCIDENTTRACT  COUNCIL_DISTRICT  PUBLIC_WORKS_DIVISION  \\\n",
              "0            5         804.0               8.0                    2.0   \n",
              "1          OSC        5599.0               NaN                    NaN   \n",
              "2            5        2811.0               9.0                    2.0   \n",
              "3            1        2304.0               1.0                    1.0   \n",
              "4            5        2814.0               2.0                    5.0   \n",
              "\n",
              "           X          Y record_type  \n",
              "0 -79.949277  40.452551      Arrest  \n",
              "1 -80.088018  40.440136      Arrest  \n",
              "2 -79.891803  40.486625      Arrest  \n",
              "3 -80.001939  40.454080      Arrest  \n",
              "4 -80.052204  40.445900      Arrest  "
            ],
            "text/html": [
              "\n",
              "  <div id=\"df-93b78fe0-c6c1-4012-a88a-48d62e2dcc5a\" class=\"colab-df-container\">\n",
              "    <div>\n",
              "<style scoped>\n",
              "    .dataframe tbody tr th:only-of-type {\n",
              "        vertical-align: middle;\n",
              "    }\n",
              "\n",
              "    .dataframe tbody tr th {\n",
              "        vertical-align: top;\n",
              "    }\n",
              "\n",
              "    .dataframe thead th {\n",
              "        text-align: right;\n",
              "    }\n",
              "</style>\n",
              "<table border=\"1\" class=\"dataframe\">\n",
              "  <thead>\n",
              "    <tr style=\"text-align: right;\">\n",
              "      <th></th>\n",
              "      <th>_id</th>\n",
              "      <th>PK</th>\n",
              "      <th>CCR</th>\n",
              "      <th>AGE</th>\n",
              "      <th>GENDER</th>\n",
              "      <th>RACE</th>\n",
              "      <th>TIME</th>\n",
              "      <th>ARRESTLOCATION</th>\n",
              "      <th>OFFENSES</th>\n",
              "      <th>INCIDENTLOCATION</th>\n",
              "      <th>INCIDENTNEIGHBORHOOD</th>\n",
              "      <th>INCIDENTZONE</th>\n",
              "      <th>INCIDENTTRACT</th>\n",
              "      <th>COUNCIL_DISTRICT</th>\n",
              "      <th>PUBLIC_WORKS_DIVISION</th>\n",
              "      <th>X</th>\n",
              "      <th>Y</th>\n",
              "      <th>record_type</th>\n",
              "    </tr>\n",
              "  </thead>\n",
              "  <tbody>\n",
              "    <tr>\n",
              "      <th>0</th>\n",
              "      <td>1</td>\n",
              "      <td>1975272</td>\n",
              "      <td>16158872</td>\n",
              "      <td>42.0</td>\n",
              "      <td>F</td>\n",
              "      <td>B</td>\n",
              "      <td>2016-08-24T12:20:00</td>\n",
              "      <td>4700 Block Centre AV Pittsburgh, PA 15213</td>\n",
              "      <td>3929 Retail Theft.</td>\n",
              "      <td>4700 Block Centre AV Pittsburgh, PA 15213</td>\n",
              "      <td>Bloomfield</td>\n",
              "      <td>5</td>\n",
              "      <td>804.0</td>\n",
              "      <td>8.0</td>\n",
              "      <td>2.0</td>\n",
              "      <td>-79.949277</td>\n",
              "      <td>40.452551</td>\n",
              "      <td>Arrest</td>\n",
              "    </tr>\n",
              "    <tr>\n",
              "      <th>1</th>\n",
              "      <td>2</td>\n",
              "      <td>1974456</td>\n",
              "      <td>16144120</td>\n",
              "      <td>31.0</td>\n",
              "      <td>M</td>\n",
              "      <td>W</td>\n",
              "      <td>2016-08-03T14:55:00</td>\n",
              "      <td>4200 Block Steubenville PKE Pittsburgh, PA 15205</td>\n",
              "      <td>13(a)(16) Possession of Controlled Substance</td>\n",
              "      <td>4200 Block Steubenville PKE Pittsburgh, PA 15205</td>\n",
              "      <td>Outside City</td>\n",
              "      <td>OSC</td>\n",
              "      <td>5599.0</td>\n",
              "      <td>NaN</td>\n",
              "      <td>NaN</td>\n",
              "      <td>-80.088018</td>\n",
              "      <td>40.440136</td>\n",
              "      <td>Arrest</td>\n",
              "    </tr>\n",
              "    <tr>\n",
              "      <th>2</th>\n",
              "      <td>3</td>\n",
              "      <td>1974466</td>\n",
              "      <td>16144165</td>\n",
              "      <td>63.0</td>\n",
              "      <td>F</td>\n",
              "      <td>B</td>\n",
              "      <td>2016-08-03T16:45:00</td>\n",
              "      <td>900 Block Freeport RD Fox Chapel, PA 15238</td>\n",
              "      <td>3929 Retail Theft.</td>\n",
              "      <td>900 Block Freeport RD Fox Chapel, PA 15238</td>\n",
              "      <td>Westwood</td>\n",
              "      <td>5</td>\n",
              "      <td>2811.0</td>\n",
              "      <td>9.0</td>\n",
              "      <td>2.0</td>\n",
              "      <td>-79.891803</td>\n",
              "      <td>40.486625</td>\n",
              "      <td>Arrest</td>\n",
              "    </tr>\n",
              "    <tr>\n",
              "      <th>3</th>\n",
              "      <td>4</td>\n",
              "      <td>1974550</td>\n",
              "      <td>16145257</td>\n",
              "      <td>25.0</td>\n",
              "      <td>F</td>\n",
              "      <td>W</td>\n",
              "      <td>2016-08-05T02:36:00</td>\n",
              "      <td>Foreland ST &amp; Cedar AV Pittsburgh, PA 15212</td>\n",
              "      <td>5503 Disorderly Conduct. / 5505 Public Drunken...</td>\n",
              "      <td>Foreland ST &amp; Cedar AV Pittsburgh, PA 15212</td>\n",
              "      <td>East Allegheny</td>\n",
              "      <td>1</td>\n",
              "      <td>2304.0</td>\n",
              "      <td>1.0</td>\n",
              "      <td>1.0</td>\n",
              "      <td>-80.001939</td>\n",
              "      <td>40.454080</td>\n",
              "      <td>Arrest</td>\n",
              "    </tr>\n",
              "    <tr>\n",
              "      <th>4</th>\n",
              "      <td>5</td>\n",
              "      <td>1974596</td>\n",
              "      <td>16145962</td>\n",
              "      <td>25.0</td>\n",
              "      <td>M</td>\n",
              "      <td>B</td>\n",
              "      <td>2016-08-06T02:00:00</td>\n",
              "      <td>900 Block Woodlow ST Pittsburgh, PA 15205</td>\n",
              "      <td>2702 Aggravated Assault. / 2705 Recklessy Enda...</td>\n",
              "      <td>900 Block Woodlow ST Pittsburgh, PA 15205</td>\n",
              "      <td>Crafton Heights</td>\n",
              "      <td>5</td>\n",
              "      <td>2814.0</td>\n",
              "      <td>2.0</td>\n",
              "      <td>5.0</td>\n",
              "      <td>-80.052204</td>\n",
              "      <td>40.445900</td>\n",
              "      <td>Arrest</td>\n",
              "    </tr>\n",
              "  </tbody>\n",
              "</table>\n",
              "</div>\n",
              "    <div class=\"colab-df-buttons\">\n",
              "\n",
              "  <div class=\"colab-df-container\">\n",
              "    <button class=\"colab-df-convert\" onclick=\"convertToInteractive('df-93b78fe0-c6c1-4012-a88a-48d62e2dcc5a')\"\n",
              "            title=\"Convert this dataframe to an interactive table.\"\n",
              "            style=\"display:none;\">\n",
              "\n",
              "  <svg xmlns=\"http://www.w3.org/2000/svg\" height=\"24px\" viewBox=\"0 -960 960 960\">\n",
              "    <path d=\"M120-120v-720h720v720H120Zm60-500h600v-160H180v160Zm220 220h160v-160H400v160Zm0 220h160v-160H400v160ZM180-400h160v-160H180v160Zm440 0h160v-160H620v160ZM180-180h160v-160H180v160Zm440 0h160v-160H620v160Z\"/>\n",
              "  </svg>\n",
              "    </button>\n",
              "\n",
              "  <style>\n",
              "    .colab-df-container {\n",
              "      display:flex;\n",
              "      gap: 12px;\n",
              "    }\n",
              "\n",
              "    .colab-df-convert {\n",
              "      background-color: #E8F0FE;\n",
              "      border: none;\n",
              "      border-radius: 50%;\n",
              "      cursor: pointer;\n",
              "      display: none;\n",
              "      fill: #1967D2;\n",
              "      height: 32px;\n",
              "      padding: 0 0 0 0;\n",
              "      width: 32px;\n",
              "    }\n",
              "\n",
              "    .colab-df-convert:hover {\n",
              "      background-color: #E2EBFA;\n",
              "      box-shadow: 0px 1px 2px rgba(60, 64, 67, 0.3), 0px 1px 3px 1px rgba(60, 64, 67, 0.15);\n",
              "      fill: #174EA6;\n",
              "    }\n",
              "\n",
              "    .colab-df-buttons div {\n",
              "      margin-bottom: 4px;\n",
              "    }\n",
              "\n",
              "    [theme=dark] .colab-df-convert {\n",
              "      background-color: #3B4455;\n",
              "      fill: #D2E3FC;\n",
              "    }\n",
              "\n",
              "    [theme=dark] .colab-df-convert:hover {\n",
              "      background-color: #434B5C;\n",
              "      box-shadow: 0px 1px 3px 1px rgba(0, 0, 0, 0.15);\n",
              "      filter: drop-shadow(0px 1px 2px rgba(0, 0, 0, 0.3));\n",
              "      fill: #FFFFFF;\n",
              "    }\n",
              "  </style>\n",
              "\n",
              "    <script>\n",
              "      const buttonEl =\n",
              "        document.querySelector('#df-93b78fe0-c6c1-4012-a88a-48d62e2dcc5a button.colab-df-convert');\n",
              "      buttonEl.style.display =\n",
              "        google.colab.kernel.accessAllowed ? 'block' : 'none';\n",
              "\n",
              "      async function convertToInteractive(key) {\n",
              "        const element = document.querySelector('#df-93b78fe0-c6c1-4012-a88a-48d62e2dcc5a');\n",
              "        const dataTable =\n",
              "          await google.colab.kernel.invokeFunction('convertToInteractive',\n",
              "                                                    [key], {});\n",
              "        if (!dataTable) return;\n",
              "\n",
              "        const docLinkHtml = 'Like what you see? Visit the ' +\n",
              "          '<a target=\"_blank\" href=https://colab.research.google.com/notebooks/data_table.ipynb>data table notebook</a>'\n",
              "          + ' to learn more about interactive tables.';\n",
              "        element.innerHTML = '';\n",
              "        dataTable['output_type'] = 'display_data';\n",
              "        await google.colab.output.renderOutput(dataTable, element);\n",
              "        const docLink = document.createElement('div');\n",
              "        docLink.innerHTML = docLinkHtml;\n",
              "        element.appendChild(docLink);\n",
              "      }\n",
              "    </script>\n",
              "  </div>\n",
              "\n",
              "\n",
              "<div id=\"df-486c23fe-2eb8-43e2-bb56-10bb23782563\">\n",
              "  <button class=\"colab-df-quickchart\" onclick=\"quickchart('df-486c23fe-2eb8-43e2-bb56-10bb23782563')\"\n",
              "            title=\"Suggest charts\"\n",
              "            style=\"display:none;\">\n",
              "\n",
              "<svg xmlns=\"http://www.w3.org/2000/svg\" height=\"24px\"viewBox=\"0 0 24 24\"\n",
              "     width=\"24px\">\n",
              "    <g>\n",
              "        <path d=\"M19 3H5c-1.1 0-2 .9-2 2v14c0 1.1.9 2 2 2h14c1.1 0 2-.9 2-2V5c0-1.1-.9-2-2-2zM9 17H7v-7h2v7zm4 0h-2V7h2v10zm4 0h-2v-4h2v4z\"/>\n",
              "    </g>\n",
              "</svg>\n",
              "  </button>\n",
              "\n",
              "<style>\n",
              "  .colab-df-quickchart {\n",
              "      --bg-color: #E8F0FE;\n",
              "      --fill-color: #1967D2;\n",
              "      --hover-bg-color: #E2EBFA;\n",
              "      --hover-fill-color: #174EA6;\n",
              "      --disabled-fill-color: #AAA;\n",
              "      --disabled-bg-color: #DDD;\n",
              "  }\n",
              "\n",
              "  [theme=dark] .colab-df-quickchart {\n",
              "      --bg-color: #3B4455;\n",
              "      --fill-color: #D2E3FC;\n",
              "      --hover-bg-color: #434B5C;\n",
              "      --hover-fill-color: #FFFFFF;\n",
              "      --disabled-bg-color: #3B4455;\n",
              "      --disabled-fill-color: #666;\n",
              "  }\n",
              "\n",
              "  .colab-df-quickchart {\n",
              "    background-color: var(--bg-color);\n",
              "    border: none;\n",
              "    border-radius: 50%;\n",
              "    cursor: pointer;\n",
              "    display: none;\n",
              "    fill: var(--fill-color);\n",
              "    height: 32px;\n",
              "    padding: 0;\n",
              "    width: 32px;\n",
              "  }\n",
              "\n",
              "  .colab-df-quickchart:hover {\n",
              "    background-color: var(--hover-bg-color);\n",
              "    box-shadow: 0 1px 2px rgba(60, 64, 67, 0.3), 0 1px 3px 1px rgba(60, 64, 67, 0.15);\n",
              "    fill: var(--button-hover-fill-color);\n",
              "  }\n",
              "\n",
              "  .colab-df-quickchart-complete:disabled,\n",
              "  .colab-df-quickchart-complete:disabled:hover {\n",
              "    background-color: var(--disabled-bg-color);\n",
              "    fill: var(--disabled-fill-color);\n",
              "    box-shadow: none;\n",
              "  }\n",
              "\n",
              "  .colab-df-spinner {\n",
              "    border: 2px solid var(--fill-color);\n",
              "    border-color: transparent;\n",
              "    border-bottom-color: var(--fill-color);\n",
              "    animation:\n",
              "      spin 1s steps(1) infinite;\n",
              "  }\n",
              "\n",
              "  @keyframes spin {\n",
              "    0% {\n",
              "      border-color: transparent;\n",
              "      border-bottom-color: var(--fill-color);\n",
              "      border-left-color: var(--fill-color);\n",
              "    }\n",
              "    20% {\n",
              "      border-color: transparent;\n",
              "      border-left-color: var(--fill-color);\n",
              "      border-top-color: var(--fill-color);\n",
              "    }\n",
              "    30% {\n",
              "      border-color: transparent;\n",
              "      border-left-color: var(--fill-color);\n",
              "      border-top-color: var(--fill-color);\n",
              "      border-right-color: var(--fill-color);\n",
              "    }\n",
              "    40% {\n",
              "      border-color: transparent;\n",
              "      border-right-color: var(--fill-color);\n",
              "      border-top-color: var(--fill-color);\n",
              "    }\n",
              "    60% {\n",
              "      border-color: transparent;\n",
              "      border-right-color: var(--fill-color);\n",
              "    }\n",
              "    80% {\n",
              "      border-color: transparent;\n",
              "      border-right-color: var(--fill-color);\n",
              "      border-bottom-color: var(--fill-color);\n",
              "    }\n",
              "    90% {\n",
              "      border-color: transparent;\n",
              "      border-bottom-color: var(--fill-color);\n",
              "    }\n",
              "  }\n",
              "</style>\n",
              "\n",
              "  <script>\n",
              "    async function quickchart(key) {\n",
              "      const quickchartButtonEl =\n",
              "        document.querySelector('#' + key + ' button');\n",
              "      quickchartButtonEl.disabled = true;  // To prevent multiple clicks.\n",
              "      quickchartButtonEl.classList.add('colab-df-spinner');\n",
              "      try {\n",
              "        const charts = await google.colab.kernel.invokeFunction(\n",
              "            'suggestCharts', [key], {});\n",
              "      } catch (error) {\n",
              "        console.error('Error during call to suggestCharts:', error);\n",
              "      }\n",
              "      quickchartButtonEl.classList.remove('colab-df-spinner');\n",
              "      quickchartButtonEl.classList.add('colab-df-quickchart-complete');\n",
              "    }\n",
              "    (() => {\n",
              "      let quickchartButtonEl =\n",
              "        document.querySelector('#df-486c23fe-2eb8-43e2-bb56-10bb23782563 button');\n",
              "      quickchartButtonEl.style.display =\n",
              "        google.colab.kernel.accessAllowed ? 'block' : 'none';\n",
              "    })();\n",
              "  </script>\n",
              "</div>\n",
              "\n",
              "    </div>\n",
              "  </div>\n"
            ],
            "application/vnd.google.colaboratory.intrinsic+json": {
              "type": "dataframe",
              "variable_name": "concat_df",
              "repr_error": "'str' object has no attribute 'empty'"
            }
          },
          "metadata": {},
          "execution_count": 18
        }
      ],
      "source": [
        "concat_df.head()"
      ]
    },
    {
      "cell_type": "code",
      "execution_count": 19,
      "metadata": {
        "colab": {
          "base_uri": "https://localhost:8080/",
          "height": 573
        },
        "id": "m2ATtQI03CST",
        "outputId": "cbc02675-bb0a-4ef1-fdc5-a04fededdbe6"
      },
      "outputs": [
        {
          "output_type": "execute_result",
          "data": {
            "text/plain": [
              "         _id       PK       CCR   AGE GENDER RACE                 TIME  \\\n",
              "16065  26491  1105498  23155936  51.0      F    W  2023-10-01T01:00:00   \n",
              "16066  26492  1105499  23155939  18.0      M    B  2023-10-01T00:40:00   \n",
              "16067  26493  1105500  23155939  18.0      M    B  2023-10-01T00:40:00   \n",
              "16068  26494  1105501  23155955  21.0      M    W  2023-10-01T00:40:00   \n",
              "16069  26495  1105502  23155955  21.0      M    W  2023-10-01T00:40:00   \n",
              "\n",
              "      ARRESTLOCATION                                           OFFENSES  \\\n",
              "16065            NaN                      601.08 (a) Open Container Law   \n",
              "16066            NaN                      601.08 (a) Open Container Law   \n",
              "16067            NaN  6308(a) Underage Purchase, Consume, Possessed ...   \n",
              "16068            NaN  3503(b)(1)(ii) Defiant Trespass Notice Posted ...   \n",
              "16069            NaN  6308(a) Underage Purchase, Consume, Possessed ...   \n",
              "\n",
              "                               INCIDENTLOCATION  INCIDENTNEIGHBORHOOD  \\\n",
              "16065    1700 Block E CARSON ST PITTSBURGH, PA                    NaN   \n",
              "16066    1500 Block E CARSON ST PITTSBURGH, PA                    NaN   \n",
              "16067    1500 Block E CARSON ST PITTSBURGH, PA                    NaN   \n",
              "16068  300 Block NORTH SHORE DR PITTSBURGH, PA   California-Kirkbride   \n",
              "16069  300 Block NORTH SHORE DR PITTSBURGH, PA   California-Kirkbride   \n",
              "\n",
              "      INCIDENTZONE INCIDENTTRACT  COUNCIL_DISTRICT  PUBLIC_WORKS_DIVISION  \\\n",
              "16065            3           NaN               3.0                    3.0   \n",
              "16066            3           NaN               3.0                    3.0   \n",
              "16067            3           NaN               3.0                    3.0   \n",
              "16068            1          2507               NaN                    NaN   \n",
              "16069            1          2507               NaN                    NaN   \n",
              "\n",
              "               X          Y record_type  \n",
              "16065 -79.981872  40.428593    Citation  \n",
              "16066 -79.983310  40.428693    Citation  \n",
              "16067 -79.983310  40.428693    Citation  \n",
              "16068        NaN        NaN    Citation  \n",
              "16069        NaN        NaN    Citation  "
            ],
            "text/html": [
              "\n",
              "  <div id=\"df-5951c35f-e88f-4a44-bb51-75d6c30d5f7d\" class=\"colab-df-container\">\n",
              "    <div>\n",
              "<style scoped>\n",
              "    .dataframe tbody tr th:only-of-type {\n",
              "        vertical-align: middle;\n",
              "    }\n",
              "\n",
              "    .dataframe tbody tr th {\n",
              "        vertical-align: top;\n",
              "    }\n",
              "\n",
              "    .dataframe thead th {\n",
              "        text-align: right;\n",
              "    }\n",
              "</style>\n",
              "<table border=\"1\" class=\"dataframe\">\n",
              "  <thead>\n",
              "    <tr style=\"text-align: right;\">\n",
              "      <th></th>\n",
              "      <th>_id</th>\n",
              "      <th>PK</th>\n",
              "      <th>CCR</th>\n",
              "      <th>AGE</th>\n",
              "      <th>GENDER</th>\n",
              "      <th>RACE</th>\n",
              "      <th>TIME</th>\n",
              "      <th>ARRESTLOCATION</th>\n",
              "      <th>OFFENSES</th>\n",
              "      <th>INCIDENTLOCATION</th>\n",
              "      <th>INCIDENTNEIGHBORHOOD</th>\n",
              "      <th>INCIDENTZONE</th>\n",
              "      <th>INCIDENTTRACT</th>\n",
              "      <th>COUNCIL_DISTRICT</th>\n",
              "      <th>PUBLIC_WORKS_DIVISION</th>\n",
              "      <th>X</th>\n",
              "      <th>Y</th>\n",
              "      <th>record_type</th>\n",
              "    </tr>\n",
              "  </thead>\n",
              "  <tbody>\n",
              "    <tr>\n",
              "      <th>16065</th>\n",
              "      <td>26491</td>\n",
              "      <td>1105498</td>\n",
              "      <td>23155936</td>\n",
              "      <td>51.0</td>\n",
              "      <td>F</td>\n",
              "      <td>W</td>\n",
              "      <td>2023-10-01T01:00:00</td>\n",
              "      <td>NaN</td>\n",
              "      <td>601.08 (a) Open Container Law</td>\n",
              "      <td>1700 Block E CARSON ST PITTSBURGH, PA</td>\n",
              "      <td>NaN</td>\n",
              "      <td>3</td>\n",
              "      <td>NaN</td>\n",
              "      <td>3.0</td>\n",
              "      <td>3.0</td>\n",
              "      <td>-79.981872</td>\n",
              "      <td>40.428593</td>\n",
              "      <td>Citation</td>\n",
              "    </tr>\n",
              "    <tr>\n",
              "      <th>16066</th>\n",
              "      <td>26492</td>\n",
              "      <td>1105499</td>\n",
              "      <td>23155939</td>\n",
              "      <td>18.0</td>\n",
              "      <td>M</td>\n",
              "      <td>B</td>\n",
              "      <td>2023-10-01T00:40:00</td>\n",
              "      <td>NaN</td>\n",
              "      <td>601.08 (a) Open Container Law</td>\n",
              "      <td>1500 Block E CARSON ST PITTSBURGH, PA</td>\n",
              "      <td>NaN</td>\n",
              "      <td>3</td>\n",
              "      <td>NaN</td>\n",
              "      <td>3.0</td>\n",
              "      <td>3.0</td>\n",
              "      <td>-79.983310</td>\n",
              "      <td>40.428693</td>\n",
              "      <td>Citation</td>\n",
              "    </tr>\n",
              "    <tr>\n",
              "      <th>16067</th>\n",
              "      <td>26493</td>\n",
              "      <td>1105500</td>\n",
              "      <td>23155939</td>\n",
              "      <td>18.0</td>\n",
              "      <td>M</td>\n",
              "      <td>B</td>\n",
              "      <td>2023-10-01T00:40:00</td>\n",
              "      <td>NaN</td>\n",
              "      <td>6308(a) Underage Purchase, Consume, Possessed ...</td>\n",
              "      <td>1500 Block E CARSON ST PITTSBURGH, PA</td>\n",
              "      <td>NaN</td>\n",
              "      <td>3</td>\n",
              "      <td>NaN</td>\n",
              "      <td>3.0</td>\n",
              "      <td>3.0</td>\n",
              "      <td>-79.983310</td>\n",
              "      <td>40.428693</td>\n",
              "      <td>Citation</td>\n",
              "    </tr>\n",
              "    <tr>\n",
              "      <th>16068</th>\n",
              "      <td>26494</td>\n",
              "      <td>1105501</td>\n",
              "      <td>23155955</td>\n",
              "      <td>21.0</td>\n",
              "      <td>M</td>\n",
              "      <td>W</td>\n",
              "      <td>2023-10-01T00:40:00</td>\n",
              "      <td>NaN</td>\n",
              "      <td>3503(b)(1)(ii) Defiant Trespass Notice Posted ...</td>\n",
              "      <td>300 Block NORTH SHORE DR PITTSBURGH, PA</td>\n",
              "      <td>California-Kirkbride</td>\n",
              "      <td>1</td>\n",
              "      <td>2507</td>\n",
              "      <td>NaN</td>\n",
              "      <td>NaN</td>\n",
              "      <td>NaN</td>\n",
              "      <td>NaN</td>\n",
              "      <td>Citation</td>\n",
              "    </tr>\n",
              "    <tr>\n",
              "      <th>16069</th>\n",
              "      <td>26495</td>\n",
              "      <td>1105502</td>\n",
              "      <td>23155955</td>\n",
              "      <td>21.0</td>\n",
              "      <td>M</td>\n",
              "      <td>W</td>\n",
              "      <td>2023-10-01T00:40:00</td>\n",
              "      <td>NaN</td>\n",
              "      <td>6308(a) Underage Purchase, Consume, Possessed ...</td>\n",
              "      <td>300 Block NORTH SHORE DR PITTSBURGH, PA</td>\n",
              "      <td>California-Kirkbride</td>\n",
              "      <td>1</td>\n",
              "      <td>2507</td>\n",
              "      <td>NaN</td>\n",
              "      <td>NaN</td>\n",
              "      <td>NaN</td>\n",
              "      <td>NaN</td>\n",
              "      <td>Citation</td>\n",
              "    </tr>\n",
              "  </tbody>\n",
              "</table>\n",
              "</div>\n",
              "    <div class=\"colab-df-buttons\">\n",
              "\n",
              "  <div class=\"colab-df-container\">\n",
              "    <button class=\"colab-df-convert\" onclick=\"convertToInteractive('df-5951c35f-e88f-4a44-bb51-75d6c30d5f7d')\"\n",
              "            title=\"Convert this dataframe to an interactive table.\"\n",
              "            style=\"display:none;\">\n",
              "\n",
              "  <svg xmlns=\"http://www.w3.org/2000/svg\" height=\"24px\" viewBox=\"0 -960 960 960\">\n",
              "    <path d=\"M120-120v-720h720v720H120Zm60-500h600v-160H180v160Zm220 220h160v-160H400v160Zm0 220h160v-160H400v160ZM180-400h160v-160H180v160Zm440 0h160v-160H620v160ZM180-180h160v-160H180v160Zm440 0h160v-160H620v160Z\"/>\n",
              "  </svg>\n",
              "    </button>\n",
              "\n",
              "  <style>\n",
              "    .colab-df-container {\n",
              "      display:flex;\n",
              "      gap: 12px;\n",
              "    }\n",
              "\n",
              "    .colab-df-convert {\n",
              "      background-color: #E8F0FE;\n",
              "      border: none;\n",
              "      border-radius: 50%;\n",
              "      cursor: pointer;\n",
              "      display: none;\n",
              "      fill: #1967D2;\n",
              "      height: 32px;\n",
              "      padding: 0 0 0 0;\n",
              "      width: 32px;\n",
              "    }\n",
              "\n",
              "    .colab-df-convert:hover {\n",
              "      background-color: #E2EBFA;\n",
              "      box-shadow: 0px 1px 2px rgba(60, 64, 67, 0.3), 0px 1px 3px 1px rgba(60, 64, 67, 0.15);\n",
              "      fill: #174EA6;\n",
              "    }\n",
              "\n",
              "    .colab-df-buttons div {\n",
              "      margin-bottom: 4px;\n",
              "    }\n",
              "\n",
              "    [theme=dark] .colab-df-convert {\n",
              "      background-color: #3B4455;\n",
              "      fill: #D2E3FC;\n",
              "    }\n",
              "\n",
              "    [theme=dark] .colab-df-convert:hover {\n",
              "      background-color: #434B5C;\n",
              "      box-shadow: 0px 1px 3px 1px rgba(0, 0, 0, 0.15);\n",
              "      filter: drop-shadow(0px 1px 2px rgba(0, 0, 0, 0.3));\n",
              "      fill: #FFFFFF;\n",
              "    }\n",
              "  </style>\n",
              "\n",
              "    <script>\n",
              "      const buttonEl =\n",
              "        document.querySelector('#df-5951c35f-e88f-4a44-bb51-75d6c30d5f7d button.colab-df-convert');\n",
              "      buttonEl.style.display =\n",
              "        google.colab.kernel.accessAllowed ? 'block' : 'none';\n",
              "\n",
              "      async function convertToInteractive(key) {\n",
              "        const element = document.querySelector('#df-5951c35f-e88f-4a44-bb51-75d6c30d5f7d');\n",
              "        const dataTable =\n",
              "          await google.colab.kernel.invokeFunction('convertToInteractive',\n",
              "                                                    [key], {});\n",
              "        if (!dataTable) return;\n",
              "\n",
              "        const docLinkHtml = 'Like what you see? Visit the ' +\n",
              "          '<a target=\"_blank\" href=https://colab.research.google.com/notebooks/data_table.ipynb>data table notebook</a>'\n",
              "          + ' to learn more about interactive tables.';\n",
              "        element.innerHTML = '';\n",
              "        dataTable['output_type'] = 'display_data';\n",
              "        await google.colab.output.renderOutput(dataTable, element);\n",
              "        const docLink = document.createElement('div');\n",
              "        docLink.innerHTML = docLinkHtml;\n",
              "        element.appendChild(docLink);\n",
              "      }\n",
              "    </script>\n",
              "  </div>\n",
              "\n",
              "\n",
              "<div id=\"df-8ecf7533-538a-48d9-b40e-0daa12dc9153\">\n",
              "  <button class=\"colab-df-quickchart\" onclick=\"quickchart('df-8ecf7533-538a-48d9-b40e-0daa12dc9153')\"\n",
              "            title=\"Suggest charts\"\n",
              "            style=\"display:none;\">\n",
              "\n",
              "<svg xmlns=\"http://www.w3.org/2000/svg\" height=\"24px\"viewBox=\"0 0 24 24\"\n",
              "     width=\"24px\">\n",
              "    <g>\n",
              "        <path d=\"M19 3H5c-1.1 0-2 .9-2 2v14c0 1.1.9 2 2 2h14c1.1 0 2-.9 2-2V5c0-1.1-.9-2-2-2zM9 17H7v-7h2v7zm4 0h-2V7h2v10zm4 0h-2v-4h2v4z\"/>\n",
              "    </g>\n",
              "</svg>\n",
              "  </button>\n",
              "\n",
              "<style>\n",
              "  .colab-df-quickchart {\n",
              "      --bg-color: #E8F0FE;\n",
              "      --fill-color: #1967D2;\n",
              "      --hover-bg-color: #E2EBFA;\n",
              "      --hover-fill-color: #174EA6;\n",
              "      --disabled-fill-color: #AAA;\n",
              "      --disabled-bg-color: #DDD;\n",
              "  }\n",
              "\n",
              "  [theme=dark] .colab-df-quickchart {\n",
              "      --bg-color: #3B4455;\n",
              "      --fill-color: #D2E3FC;\n",
              "      --hover-bg-color: #434B5C;\n",
              "      --hover-fill-color: #FFFFFF;\n",
              "      --disabled-bg-color: #3B4455;\n",
              "      --disabled-fill-color: #666;\n",
              "  }\n",
              "\n",
              "  .colab-df-quickchart {\n",
              "    background-color: var(--bg-color);\n",
              "    border: none;\n",
              "    border-radius: 50%;\n",
              "    cursor: pointer;\n",
              "    display: none;\n",
              "    fill: var(--fill-color);\n",
              "    height: 32px;\n",
              "    padding: 0;\n",
              "    width: 32px;\n",
              "  }\n",
              "\n",
              "  .colab-df-quickchart:hover {\n",
              "    background-color: var(--hover-bg-color);\n",
              "    box-shadow: 0 1px 2px rgba(60, 64, 67, 0.3), 0 1px 3px 1px rgba(60, 64, 67, 0.15);\n",
              "    fill: var(--button-hover-fill-color);\n",
              "  }\n",
              "\n",
              "  .colab-df-quickchart-complete:disabled,\n",
              "  .colab-df-quickchart-complete:disabled:hover {\n",
              "    background-color: var(--disabled-bg-color);\n",
              "    fill: var(--disabled-fill-color);\n",
              "    box-shadow: none;\n",
              "  }\n",
              "\n",
              "  .colab-df-spinner {\n",
              "    border: 2px solid var(--fill-color);\n",
              "    border-color: transparent;\n",
              "    border-bottom-color: var(--fill-color);\n",
              "    animation:\n",
              "      spin 1s steps(1) infinite;\n",
              "  }\n",
              "\n",
              "  @keyframes spin {\n",
              "    0% {\n",
              "      border-color: transparent;\n",
              "      border-bottom-color: var(--fill-color);\n",
              "      border-left-color: var(--fill-color);\n",
              "    }\n",
              "    20% {\n",
              "      border-color: transparent;\n",
              "      border-left-color: var(--fill-color);\n",
              "      border-top-color: var(--fill-color);\n",
              "    }\n",
              "    30% {\n",
              "      border-color: transparent;\n",
              "      border-left-color: var(--fill-color);\n",
              "      border-top-color: var(--fill-color);\n",
              "      border-right-color: var(--fill-color);\n",
              "    }\n",
              "    40% {\n",
              "      border-color: transparent;\n",
              "      border-right-color: var(--fill-color);\n",
              "      border-top-color: var(--fill-color);\n",
              "    }\n",
              "    60% {\n",
              "      border-color: transparent;\n",
              "      border-right-color: var(--fill-color);\n",
              "    }\n",
              "    80% {\n",
              "      border-color: transparent;\n",
              "      border-right-color: var(--fill-color);\n",
              "      border-bottom-color: var(--fill-color);\n",
              "    }\n",
              "    90% {\n",
              "      border-color: transparent;\n",
              "      border-bottom-color: var(--fill-color);\n",
              "    }\n",
              "  }\n",
              "</style>\n",
              "\n",
              "  <script>\n",
              "    async function quickchart(key) {\n",
              "      const quickchartButtonEl =\n",
              "        document.querySelector('#' + key + ' button');\n",
              "      quickchartButtonEl.disabled = true;  // To prevent multiple clicks.\n",
              "      quickchartButtonEl.classList.add('colab-df-spinner');\n",
              "      try {\n",
              "        const charts = await google.colab.kernel.invokeFunction(\n",
              "            'suggestCharts', [key], {});\n",
              "      } catch (error) {\n",
              "        console.error('Error during call to suggestCharts:', error);\n",
              "      }\n",
              "      quickchartButtonEl.classList.remove('colab-df-spinner');\n",
              "      quickchartButtonEl.classList.add('colab-df-quickchart-complete');\n",
              "    }\n",
              "    (() => {\n",
              "      let quickchartButtonEl =\n",
              "        document.querySelector('#df-8ecf7533-538a-48d9-b40e-0daa12dc9153 button');\n",
              "      quickchartButtonEl.style.display =\n",
              "        google.colab.kernel.accessAllowed ? 'block' : 'none';\n",
              "    })();\n",
              "  </script>\n",
              "</div>\n",
              "\n",
              "    </div>\n",
              "  </div>\n"
            ],
            "application/vnd.google.colaboratory.intrinsic+json": {
              "type": "dataframe",
              "repr_error": "'str' object has no attribute 'empty'"
            }
          },
          "metadata": {},
          "execution_count": 19
        }
      ],
      "source": [
        "concat_df.tail()"
      ]
    },
    {
      "cell_type": "code",
      "execution_count": 20,
      "metadata": {
        "colab": {
          "base_uri": "https://localhost:8080/"
        },
        "id": "59jHKcJf2ZcQ",
        "outputId": "3ed43ec6-cb4f-449d-f6d4-92971f7da02e"
      },
      "outputs": [
        {
          "output_type": "execute_result",
          "data": {
            "text/plain": [
              "array(['F', 'M', 'U', nan], dtype=object)"
            ]
          },
          "metadata": {},
          "execution_count": 20
        }
      ],
      "source": [
        "concat_df['GENDER'].unique()"
      ]
    },
    {
      "cell_type": "code",
      "execution_count": 21,
      "metadata": {
        "colab": {
          "base_uri": "https://localhost:8080/"
        },
        "id": "k4RtqQj02ZT9",
        "outputId": "9ae51223-7913-47a4-da55-238cdd9d1088"
      },
      "outputs": [
        {
          "output_type": "execute_result",
          "data": {
            "text/plain": [
              "array([ 42.,  31.,  63.,  25.,  45.,  29.,  21.,  17.,  14.,  30.,  54.,\n",
              "        27.,  53.,  18.,  22.,  23.,  33.,  41.,  26.,  15.,  35.,  32.,\n",
              "        13.,  19.,  52.,  40.,  16.,  20.,  28.,  nan,  36.,  37.,  44.,\n",
              "        24.,  57.,  48.,  34.,  47.,  49.,  58.,  59.,  46.,  51.,  56.,\n",
              "        38.,  43.,  60.,  10.,  50.,  39.,  55.,  69.,  61.,  12.,  67.,\n",
              "        65.,  71.,  62.,  70.,  66.,  79.,   0.,  75.,  88.,  11.,  77.,\n",
              "        68.,  64.,  74.,  82.,  76.,  73.,  72., 999.,  80., 117.,  83.,\n",
              "        84.,  98.,  78.,  81.,  90.,   8.,   9.,   7.,   5., 107.,  85.,\n",
              "       121.,   1.,   4.])"
            ]
          },
          "metadata": {},
          "execution_count": 21
        }
      ],
      "source": [
        "concat_df['AGE'].unique()"
      ]
    },
    {
      "cell_type": "code",
      "execution_count": 22,
      "metadata": {
        "colab": {
          "base_uri": "https://localhost:8080/"
        },
        "id": "D8Ca7HZw4qxV",
        "outputId": "a13480fc-76ff-472b-88d8-8fca36194c0d"
      },
      "outputs": [
        {
          "output_type": "execute_result",
          "data": {
            "text/plain": [
              "array([ 42.,  31.,  63.,  25.,  45.,  29.,  21.,  17.,  14.,  30.,  54.,\n",
              "        27.,  53.,  18.,  22.,  23.,  33.,  41.,  26.,  15.,  35.,  32.,\n",
              "        13.,  19.,  52.,  40.,  16.,  20.,  28.,  nan,  36.,  37.,  44.,\n",
              "        24.,  57.,  48.,  34.,  47.,  49.,  58.,  59.,  46.,  51.,  56.,\n",
              "        38.,  43.,  60.,  10.,  50.,  39.,  55.,  69.,  61.,  12.,  67.,\n",
              "        65.,  71.,  62.,  70.,  66.,  79.,   0.,  75.,  88.,  11.,  77.,\n",
              "        68.,  64.,  74.,  82.,  76.,  73.,  72., 999.,  80., 117.,  83.,\n",
              "        84.,  98.,  78.,  81.,  90.])"
            ]
          },
          "metadata": {},
          "execution_count": 22
        }
      ],
      "source": [
        "arr_df['AGE'].unique()"
      ]
    },
    {
      "cell_type": "code",
      "execution_count": 23,
      "metadata": {
        "colab": {
          "base_uri": "https://localhost:8080/"
        },
        "id": "tVta0kmY4qu4",
        "outputId": "90e7c799-21b8-4fd3-861b-177f44840397"
      },
      "outputs": [
        {
          "output_type": "execute_result",
          "data": {
            "text/plain": [
              "array([ 29.,  21.,  nan,  22.,  28.,  56.,  44.,  50.,  24.,  31.,  30.,\n",
              "        27.,  20.,  26.,  59.,  23.,  36.,  33.,  40.,  41.,  52.,  14.,\n",
              "        57.,  55.,  19.,  58.,  42.,   0.,  53.,  45.,  12.,  25.,  51.,\n",
              "        10.,  18.,  15.,  47.,  68.,  48.,  17.,  38.,  37.,  60.,  32.,\n",
              "        34.,  43.,  16.,  54.,  64.,  70.,  49.,  35.,  46.,  63.,  69.,\n",
              "        62.,  39.,  61.,   8.,  66.,  67.,  65.,  13.,  78.,  72.,  71.,\n",
              "        75.,  74.,  11.,   9., 117.,  77.,  76.,   7.,   5.,  73., 107.,\n",
              "        79.,  85.,  83.,  80., 121.,   1.,  82.,   4.])"
            ]
          },
          "metadata": {},
          "execution_count": 23
        }
      ],
      "source": [
        "cit_df['AGE'].unique()"
      ]
    },
    {
      "cell_type": "code",
      "execution_count": 24,
      "metadata": {
        "colab": {
          "base_uri": "https://localhost:8080/"
        },
        "id": "H0qraOfM409L",
        "outputId": "58c0a00d-42e6-4e35-89d3-225865452e5c"
      },
      "outputs": [
        {
          "output_type": "execute_result",
          "data": {
            "text/plain": [
              "array(['B', 'W', 'H', 'O', 'U', 'A', 'I', nan], dtype=object)"
            ]
          },
          "metadata": {},
          "execution_count": 24
        }
      ],
      "source": [
        "concat_df['RACE'].unique()"
      ]
    },
    {
      "cell_type": "code",
      "execution_count": 25,
      "metadata": {
        "colab": {
          "base_uri": "https://localhost:8080/"
        },
        "id": "8TSJTCGm465_",
        "outputId": "1b622028-78df-49ce-e4a9-96c4be236dba"
      },
      "outputs": [
        {
          "output_type": "execute_result",
          "data": {
            "text/plain": [
              "Arrest      65659\n",
              "Citation    16070\n",
              "Name: record_type, dtype: int64"
            ]
          },
          "metadata": {},
          "execution_count": 25
        }
      ],
      "source": [
        "concat_df['record_type'].value_counts()"
      ]
    },
    {
      "cell_type": "code",
      "execution_count": 26,
      "metadata": {
        "colab": {
          "base_uri": "https://localhost:8080/"
        },
        "id": "-7bbUZqs5A9d",
        "outputId": "4e6c842c-dfb7-4216-e05f-67e8df3ca8e2"
      },
      "outputs": [
        {
          "output_type": "execute_result",
          "data": {
            "text/plain": [
              "16070"
            ]
          },
          "metadata": {},
          "execution_count": 26
        }
      ],
      "source": [
        "concat_df['ARRESTLOCATION'].isna().sum()"
      ]
    },
    {
      "cell_type": "code",
      "execution_count": 27,
      "metadata": {
        "colab": {
          "base_uri": "https://localhost:8080/"
        },
        "id": "99D9nQHm5Sbd",
        "outputId": "c332adcb-7212-4e9f-d713-638b62d2e37d"
      },
      "outputs": [
        {
          "output_type": "execute_result",
          "data": {
            "text/plain": [
              "0"
            ]
          },
          "metadata": {},
          "execution_count": 27
        }
      ],
      "source": [
        "arr_df['ARRESTLOCATION'].isna().sum()"
      ]
    },
    {
      "cell_type": "markdown",
      "metadata": {
        "id": "92I7i0Oc9you"
      },
      "source": [
        "#### Make a copy of the dataset"
      ]
    },
    {
      "cell_type": "code",
      "execution_count": 28,
      "metadata": {
        "id": "t2ah7pZy52K7"
      },
      "outputs": [],
      "source": [
        "df = concat_df.copy()"
      ]
    },
    {
      "cell_type": "markdown",
      "metadata": {
        "id": "_RTptUdbE1-w"
      },
      "source": [
        "#### Modify zone values to include 'Zone'"
      ]
    },
    {
      "cell_type": "code",
      "execution_count": 29,
      "metadata": {
        "id": "Z9dAMsg892pC"
      },
      "outputs": [],
      "source": [
        "df['INCIDENTZONE'] = ['Zone ' + str(x) if 'nan' not in str(x) and 'OSC' not in str(x) and 'SDD' not in str(x) else x for x in df['INCIDENTZONE']]"
      ]
    },
    {
      "cell_type": "code",
      "execution_count": 30,
      "metadata": {
        "colab": {
          "base_uri": "https://localhost:8080/"
        },
        "id": "neCzLHnS-L57",
        "outputId": "63be92a4-18ac-4782-cdf7-875bb4ddc4ed"
      },
      "outputs": [
        {
          "output_type": "execute_result",
          "data": {
            "text/plain": [
              "array(['Zone 5', 'OSC', 'Zone 1', 'Zone 4', 'Zone 6', 'Zone 3', 'Zone 2',\n",
              "       nan, 'SDD'], dtype=object)"
            ]
          },
          "metadata": {},
          "execution_count": 30
        }
      ],
      "source": [
        "df.INCIDENTZONE.unique()"
      ]
    },
    {
      "cell_type": "code",
      "execution_count": 31,
      "metadata": {
        "colab": {
          "base_uri": "https://localhost:8080/"
        },
        "id": "h1bIrG0q-18Y",
        "outputId": "ef71f0b7-9a08-4d26-9b60-578e20770a45"
      },
      "outputs": [
        {
          "output_type": "execute_result",
          "data": {
            "text/plain": [
              "Zone 3    18486\n",
              "Zone 1    16403\n",
              "Zone 5    14894\n",
              "Zone 2    13889\n",
              "Zone 4     9550\n",
              "Zone 6     7960\n",
              "OSC         446\n",
              "SDD           1\n",
              "Name: INCIDENTZONE, dtype: int64"
            ]
          },
          "metadata": {},
          "execution_count": 31
        }
      ],
      "source": [
        "df.INCIDENTZONE.value_counts()"
      ]
    },
    {
      "cell_type": "code",
      "execution_count": 32,
      "metadata": {
        "id": "PwxojTZNFFRJ"
      },
      "outputs": [],
      "source": [
        "summary_df = df.groupby(['INCIDENTZONE', 'record_type']).\\\n",
        "            aggregate(offenses_notna_count = ('OFFENSES', 'count'),\n",
        "                      offenses_total_rows = ('OFFENSES', 'size'),\n",
        "                      average_age = ('AGE', 'mean'),\n",
        "                      minimum_age = ('AGE', min),\n",
        "                      maximum_age = ('AGE', max)).\\\n",
        "            reset_index().copy()"
      ]
    },
    {
      "cell_type": "code",
      "execution_count": 33,
      "metadata": {
        "colab": {
          "base_uri": "https://localhost:8080/",
          "height": 540
        },
        "id": "MNTgKsOgFFOw",
        "outputId": "5c931841-3bcf-42e3-ea87-9765ff4eea00"
      },
      "outputs": [
        {
          "output_type": "execute_result",
          "data": {
            "text/plain": [
              "   INCIDENTZONE record_type  offenses_notna_count  offenses_total_rows  \\\n",
              "0           OSC      Arrest                   440                  440   \n",
              "1           OSC    Citation                     6                    6   \n",
              "2           SDD    Citation                     1                    1   \n",
              "3        Zone 1      Arrest                 14242                14244   \n",
              "4        Zone 1    Citation                  2159                 2159   \n",
              "5        Zone 2      Arrest                 10779                10779   \n",
              "6        Zone 2    Citation                  3110                 3110   \n",
              "7        Zone 3      Arrest                 12907                12907   \n",
              "8        Zone 3    Citation                  5579                 5579   \n",
              "9        Zone 4      Arrest                  7084                 7084   \n",
              "10       Zone 4    Citation                  2466                 2466   \n",
              "11       Zone 5      Arrest                 13294                13295   \n",
              "12       Zone 5    Citation                  1599                 1599   \n",
              "13       Zone 6      Arrest                  6810                 6810   \n",
              "14       Zone 6    Citation                  1150                 1150   \n",
              "\n",
              "    average_age  minimum_age  maximum_age  \n",
              "0     30.851936         14.0         65.0  \n",
              "1     23.500000         18.0         30.0  \n",
              "2     47.000000         47.0         47.0  \n",
              "3     33.448018          0.0         84.0  \n",
              "4     35.522991          0.0         85.0  \n",
              "5     36.248504          0.0        999.0  \n",
              "6     39.078171          0.0        121.0  \n",
              "7     32.718155          0.0        999.0  \n",
              "8     29.710867          0.0         77.0  \n",
              "9     34.289145         10.0         90.0  \n",
              "10    29.698497          0.0        117.0  \n",
              "11    33.943369          0.0         84.0  \n",
              "12    31.708360          0.0         83.0  \n",
              "13    32.477998          0.0         88.0  \n",
              "14    36.501310          0.0         80.0  "
            ],
            "text/html": [
              "\n",
              "  <div id=\"df-262c0dd5-0641-4b2e-bafc-b6ade3406b74\" class=\"colab-df-container\">\n",
              "    <div>\n",
              "<style scoped>\n",
              "    .dataframe tbody tr th:only-of-type {\n",
              "        vertical-align: middle;\n",
              "    }\n",
              "\n",
              "    .dataframe tbody tr th {\n",
              "        vertical-align: top;\n",
              "    }\n",
              "\n",
              "    .dataframe thead th {\n",
              "        text-align: right;\n",
              "    }\n",
              "</style>\n",
              "<table border=\"1\" class=\"dataframe\">\n",
              "  <thead>\n",
              "    <tr style=\"text-align: right;\">\n",
              "      <th></th>\n",
              "      <th>INCIDENTZONE</th>\n",
              "      <th>record_type</th>\n",
              "      <th>offenses_notna_count</th>\n",
              "      <th>offenses_total_rows</th>\n",
              "      <th>average_age</th>\n",
              "      <th>minimum_age</th>\n",
              "      <th>maximum_age</th>\n",
              "    </tr>\n",
              "  </thead>\n",
              "  <tbody>\n",
              "    <tr>\n",
              "      <th>0</th>\n",
              "      <td>OSC</td>\n",
              "      <td>Arrest</td>\n",
              "      <td>440</td>\n",
              "      <td>440</td>\n",
              "      <td>30.851936</td>\n",
              "      <td>14.0</td>\n",
              "      <td>65.0</td>\n",
              "    </tr>\n",
              "    <tr>\n",
              "      <th>1</th>\n",
              "      <td>OSC</td>\n",
              "      <td>Citation</td>\n",
              "      <td>6</td>\n",
              "      <td>6</td>\n",
              "      <td>23.500000</td>\n",
              "      <td>18.0</td>\n",
              "      <td>30.0</td>\n",
              "    </tr>\n",
              "    <tr>\n",
              "      <th>2</th>\n",
              "      <td>SDD</td>\n",
              "      <td>Citation</td>\n",
              "      <td>1</td>\n",
              "      <td>1</td>\n",
              "      <td>47.000000</td>\n",
              "      <td>47.0</td>\n",
              "      <td>47.0</td>\n",
              "    </tr>\n",
              "    <tr>\n",
              "      <th>3</th>\n",
              "      <td>Zone 1</td>\n",
              "      <td>Arrest</td>\n",
              "      <td>14242</td>\n",
              "      <td>14244</td>\n",
              "      <td>33.448018</td>\n",
              "      <td>0.0</td>\n",
              "      <td>84.0</td>\n",
              "    </tr>\n",
              "    <tr>\n",
              "      <th>4</th>\n",
              "      <td>Zone 1</td>\n",
              "      <td>Citation</td>\n",
              "      <td>2159</td>\n",
              "      <td>2159</td>\n",
              "      <td>35.522991</td>\n",
              "      <td>0.0</td>\n",
              "      <td>85.0</td>\n",
              "    </tr>\n",
              "    <tr>\n",
              "      <th>5</th>\n",
              "      <td>Zone 2</td>\n",
              "      <td>Arrest</td>\n",
              "      <td>10779</td>\n",
              "      <td>10779</td>\n",
              "      <td>36.248504</td>\n",
              "      <td>0.0</td>\n",
              "      <td>999.0</td>\n",
              "    </tr>\n",
              "    <tr>\n",
              "      <th>6</th>\n",
              "      <td>Zone 2</td>\n",
              "      <td>Citation</td>\n",
              "      <td>3110</td>\n",
              "      <td>3110</td>\n",
              "      <td>39.078171</td>\n",
              "      <td>0.0</td>\n",
              "      <td>121.0</td>\n",
              "    </tr>\n",
              "    <tr>\n",
              "      <th>7</th>\n",
              "      <td>Zone 3</td>\n",
              "      <td>Arrest</td>\n",
              "      <td>12907</td>\n",
              "      <td>12907</td>\n",
              "      <td>32.718155</td>\n",
              "      <td>0.0</td>\n",
              "      <td>999.0</td>\n",
              "    </tr>\n",
              "    <tr>\n",
              "      <th>8</th>\n",
              "      <td>Zone 3</td>\n",
              "      <td>Citation</td>\n",
              "      <td>5579</td>\n",
              "      <td>5579</td>\n",
              "      <td>29.710867</td>\n",
              "      <td>0.0</td>\n",
              "      <td>77.0</td>\n",
              "    </tr>\n",
              "    <tr>\n",
              "      <th>9</th>\n",
              "      <td>Zone 4</td>\n",
              "      <td>Arrest</td>\n",
              "      <td>7084</td>\n",
              "      <td>7084</td>\n",
              "      <td>34.289145</td>\n",
              "      <td>10.0</td>\n",
              "      <td>90.0</td>\n",
              "    </tr>\n",
              "    <tr>\n",
              "      <th>10</th>\n",
              "      <td>Zone 4</td>\n",
              "      <td>Citation</td>\n",
              "      <td>2466</td>\n",
              "      <td>2466</td>\n",
              "      <td>29.698497</td>\n",
              "      <td>0.0</td>\n",
              "      <td>117.0</td>\n",
              "    </tr>\n",
              "    <tr>\n",
              "      <th>11</th>\n",
              "      <td>Zone 5</td>\n",
              "      <td>Arrest</td>\n",
              "      <td>13294</td>\n",
              "      <td>13295</td>\n",
              "      <td>33.943369</td>\n",
              "      <td>0.0</td>\n",
              "      <td>84.0</td>\n",
              "    </tr>\n",
              "    <tr>\n",
              "      <th>12</th>\n",
              "      <td>Zone 5</td>\n",
              "      <td>Citation</td>\n",
              "      <td>1599</td>\n",
              "      <td>1599</td>\n",
              "      <td>31.708360</td>\n",
              "      <td>0.0</td>\n",
              "      <td>83.0</td>\n",
              "    </tr>\n",
              "    <tr>\n",
              "      <th>13</th>\n",
              "      <td>Zone 6</td>\n",
              "      <td>Arrest</td>\n",
              "      <td>6810</td>\n",
              "      <td>6810</td>\n",
              "      <td>32.477998</td>\n",
              "      <td>0.0</td>\n",
              "      <td>88.0</td>\n",
              "    </tr>\n",
              "    <tr>\n",
              "      <th>14</th>\n",
              "      <td>Zone 6</td>\n",
              "      <td>Citation</td>\n",
              "      <td>1150</td>\n",
              "      <td>1150</td>\n",
              "      <td>36.501310</td>\n",
              "      <td>0.0</td>\n",
              "      <td>80.0</td>\n",
              "    </tr>\n",
              "  </tbody>\n",
              "</table>\n",
              "</div>\n",
              "    <div class=\"colab-df-buttons\">\n",
              "\n",
              "  <div class=\"colab-df-container\">\n",
              "    <button class=\"colab-df-convert\" onclick=\"convertToInteractive('df-262c0dd5-0641-4b2e-bafc-b6ade3406b74')\"\n",
              "            title=\"Convert this dataframe to an interactive table.\"\n",
              "            style=\"display:none;\">\n",
              "\n",
              "  <svg xmlns=\"http://www.w3.org/2000/svg\" height=\"24px\" viewBox=\"0 -960 960 960\">\n",
              "    <path d=\"M120-120v-720h720v720H120Zm60-500h600v-160H180v160Zm220 220h160v-160H400v160Zm0 220h160v-160H400v160ZM180-400h160v-160H180v160Zm440 0h160v-160H620v160ZM180-180h160v-160H180v160Zm440 0h160v-160H620v160Z\"/>\n",
              "  </svg>\n",
              "    </button>\n",
              "\n",
              "  <style>\n",
              "    .colab-df-container {\n",
              "      display:flex;\n",
              "      gap: 12px;\n",
              "    }\n",
              "\n",
              "    .colab-df-convert {\n",
              "      background-color: #E8F0FE;\n",
              "      border: none;\n",
              "      border-radius: 50%;\n",
              "      cursor: pointer;\n",
              "      display: none;\n",
              "      fill: #1967D2;\n",
              "      height: 32px;\n",
              "      padding: 0 0 0 0;\n",
              "      width: 32px;\n",
              "    }\n",
              "\n",
              "    .colab-df-convert:hover {\n",
              "      background-color: #E2EBFA;\n",
              "      box-shadow: 0px 1px 2px rgba(60, 64, 67, 0.3), 0px 1px 3px 1px rgba(60, 64, 67, 0.15);\n",
              "      fill: #174EA6;\n",
              "    }\n",
              "\n",
              "    .colab-df-buttons div {\n",
              "      margin-bottom: 4px;\n",
              "    }\n",
              "\n",
              "    [theme=dark] .colab-df-convert {\n",
              "      background-color: #3B4455;\n",
              "      fill: #D2E3FC;\n",
              "    }\n",
              "\n",
              "    [theme=dark] .colab-df-convert:hover {\n",
              "      background-color: #434B5C;\n",
              "      box-shadow: 0px 1px 3px 1px rgba(0, 0, 0, 0.15);\n",
              "      filter: drop-shadow(0px 1px 2px rgba(0, 0, 0, 0.3));\n",
              "      fill: #FFFFFF;\n",
              "    }\n",
              "  </style>\n",
              "\n",
              "    <script>\n",
              "      const buttonEl =\n",
              "        document.querySelector('#df-262c0dd5-0641-4b2e-bafc-b6ade3406b74 button.colab-df-convert');\n",
              "      buttonEl.style.display =\n",
              "        google.colab.kernel.accessAllowed ? 'block' : 'none';\n",
              "\n",
              "      async function convertToInteractive(key) {\n",
              "        const element = document.querySelector('#df-262c0dd5-0641-4b2e-bafc-b6ade3406b74');\n",
              "        const dataTable =\n",
              "          await google.colab.kernel.invokeFunction('convertToInteractive',\n",
              "                                                    [key], {});\n",
              "        if (!dataTable) return;\n",
              "\n",
              "        const docLinkHtml = 'Like what you see? Visit the ' +\n",
              "          '<a target=\"_blank\" href=https://colab.research.google.com/notebooks/data_table.ipynb>data table notebook</a>'\n",
              "          + ' to learn more about interactive tables.';\n",
              "        element.innerHTML = '';\n",
              "        dataTable['output_type'] = 'display_data';\n",
              "        await google.colab.output.renderOutput(dataTable, element);\n",
              "        const docLink = document.createElement('div');\n",
              "        docLink.innerHTML = docLinkHtml;\n",
              "        element.appendChild(docLink);\n",
              "      }\n",
              "    </script>\n",
              "  </div>\n",
              "\n",
              "\n",
              "<div id=\"df-e6da3b72-149c-4b6b-9e08-606a515e61b7\">\n",
              "  <button class=\"colab-df-quickchart\" onclick=\"quickchart('df-e6da3b72-149c-4b6b-9e08-606a515e61b7')\"\n",
              "            title=\"Suggest charts\"\n",
              "            style=\"display:none;\">\n",
              "\n",
              "<svg xmlns=\"http://www.w3.org/2000/svg\" height=\"24px\"viewBox=\"0 0 24 24\"\n",
              "     width=\"24px\">\n",
              "    <g>\n",
              "        <path d=\"M19 3H5c-1.1 0-2 .9-2 2v14c0 1.1.9 2 2 2h14c1.1 0 2-.9 2-2V5c0-1.1-.9-2-2-2zM9 17H7v-7h2v7zm4 0h-2V7h2v10zm4 0h-2v-4h2v4z\"/>\n",
              "    </g>\n",
              "</svg>\n",
              "  </button>\n",
              "\n",
              "<style>\n",
              "  .colab-df-quickchart {\n",
              "      --bg-color: #E8F0FE;\n",
              "      --fill-color: #1967D2;\n",
              "      --hover-bg-color: #E2EBFA;\n",
              "      --hover-fill-color: #174EA6;\n",
              "      --disabled-fill-color: #AAA;\n",
              "      --disabled-bg-color: #DDD;\n",
              "  }\n",
              "\n",
              "  [theme=dark] .colab-df-quickchart {\n",
              "      --bg-color: #3B4455;\n",
              "      --fill-color: #D2E3FC;\n",
              "      --hover-bg-color: #434B5C;\n",
              "      --hover-fill-color: #FFFFFF;\n",
              "      --disabled-bg-color: #3B4455;\n",
              "      --disabled-fill-color: #666;\n",
              "  }\n",
              "\n",
              "  .colab-df-quickchart {\n",
              "    background-color: var(--bg-color);\n",
              "    border: none;\n",
              "    border-radius: 50%;\n",
              "    cursor: pointer;\n",
              "    display: none;\n",
              "    fill: var(--fill-color);\n",
              "    height: 32px;\n",
              "    padding: 0;\n",
              "    width: 32px;\n",
              "  }\n",
              "\n",
              "  .colab-df-quickchart:hover {\n",
              "    background-color: var(--hover-bg-color);\n",
              "    box-shadow: 0 1px 2px rgba(60, 64, 67, 0.3), 0 1px 3px 1px rgba(60, 64, 67, 0.15);\n",
              "    fill: var(--button-hover-fill-color);\n",
              "  }\n",
              "\n",
              "  .colab-df-quickchart-complete:disabled,\n",
              "  .colab-df-quickchart-complete:disabled:hover {\n",
              "    background-color: var(--disabled-bg-color);\n",
              "    fill: var(--disabled-fill-color);\n",
              "    box-shadow: none;\n",
              "  }\n",
              "\n",
              "  .colab-df-spinner {\n",
              "    border: 2px solid var(--fill-color);\n",
              "    border-color: transparent;\n",
              "    border-bottom-color: var(--fill-color);\n",
              "    animation:\n",
              "      spin 1s steps(1) infinite;\n",
              "  }\n",
              "\n",
              "  @keyframes spin {\n",
              "    0% {\n",
              "      border-color: transparent;\n",
              "      border-bottom-color: var(--fill-color);\n",
              "      border-left-color: var(--fill-color);\n",
              "    }\n",
              "    20% {\n",
              "      border-color: transparent;\n",
              "      border-left-color: var(--fill-color);\n",
              "      border-top-color: var(--fill-color);\n",
              "    }\n",
              "    30% {\n",
              "      border-color: transparent;\n",
              "      border-left-color: var(--fill-color);\n",
              "      border-top-color: var(--fill-color);\n",
              "      border-right-color: var(--fill-color);\n",
              "    }\n",
              "    40% {\n",
              "      border-color: transparent;\n",
              "      border-right-color: var(--fill-color);\n",
              "      border-top-color: var(--fill-color);\n",
              "    }\n",
              "    60% {\n",
              "      border-color: transparent;\n",
              "      border-right-color: var(--fill-color);\n",
              "    }\n",
              "    80% {\n",
              "      border-color: transparent;\n",
              "      border-right-color: var(--fill-color);\n",
              "      border-bottom-color: var(--fill-color);\n",
              "    }\n",
              "    90% {\n",
              "      border-color: transparent;\n",
              "      border-bottom-color: var(--fill-color);\n",
              "    }\n",
              "  }\n",
              "</style>\n",
              "\n",
              "  <script>\n",
              "    async function quickchart(key) {\n",
              "      const quickchartButtonEl =\n",
              "        document.querySelector('#' + key + ' button');\n",
              "      quickchartButtonEl.disabled = true;  // To prevent multiple clicks.\n",
              "      quickchartButtonEl.classList.add('colab-df-spinner');\n",
              "      try {\n",
              "        const charts = await google.colab.kernel.invokeFunction(\n",
              "            'suggestCharts', [key], {});\n",
              "      } catch (error) {\n",
              "        console.error('Error during call to suggestCharts:', error);\n",
              "      }\n",
              "      quickchartButtonEl.classList.remove('colab-df-spinner');\n",
              "      quickchartButtonEl.classList.add('colab-df-quickchart-complete');\n",
              "    }\n",
              "    (() => {\n",
              "      let quickchartButtonEl =\n",
              "        document.querySelector('#df-e6da3b72-149c-4b6b-9e08-606a515e61b7 button');\n",
              "      quickchartButtonEl.style.display =\n",
              "        google.colab.kernel.accessAllowed ? 'block' : 'none';\n",
              "    })();\n",
              "  </script>\n",
              "</div>\n",
              "\n",
              "  <div id=\"id_d7ef24a4-1f7d-40db-9499-50fb6e1b9368\">\n",
              "    <style>\n",
              "      .colab-df-generate {\n",
              "        background-color: #E8F0FE;\n",
              "        border: none;\n",
              "        border-radius: 50%;\n",
              "        cursor: pointer;\n",
              "        display: none;\n",
              "        fill: #1967D2;\n",
              "        height: 32px;\n",
              "        padding: 0 0 0 0;\n",
              "        width: 32px;\n",
              "      }\n",
              "\n",
              "      .colab-df-generate:hover {\n",
              "        background-color: #E2EBFA;\n",
              "        box-shadow: 0px 1px 2px rgba(60, 64, 67, 0.3), 0px 1px 3px 1px rgba(60, 64, 67, 0.15);\n",
              "        fill: #174EA6;\n",
              "      }\n",
              "\n",
              "      [theme=dark] .colab-df-generate {\n",
              "        background-color: #3B4455;\n",
              "        fill: #D2E3FC;\n",
              "      }\n",
              "\n",
              "      [theme=dark] .colab-df-generate:hover {\n",
              "        background-color: #434B5C;\n",
              "        box-shadow: 0px 1px 3px 1px rgba(0, 0, 0, 0.15);\n",
              "        filter: drop-shadow(0px 1px 2px rgba(0, 0, 0, 0.3));\n",
              "        fill: #FFFFFF;\n",
              "      }\n",
              "    </style>\n",
              "    <button class=\"colab-df-generate\" onclick=\"generateWithVariable('summary_df')\"\n",
              "            title=\"Generate code using this dataframe.\"\n",
              "            style=\"display:none;\">\n",
              "\n",
              "  <svg xmlns=\"http://www.w3.org/2000/svg\" height=\"24px\"viewBox=\"0 0 24 24\"\n",
              "       width=\"24px\">\n",
              "    <path d=\"M7,19H8.4L18.45,9,17,7.55,7,17.6ZM5,21V16.75L18.45,3.32a2,2,0,0,1,2.83,0l1.4,1.43a1.91,1.91,0,0,1,.58,1.4,1.91,1.91,0,0,1-.58,1.4L9.25,21ZM18.45,9,17,7.55Zm-12,3A5.31,5.31,0,0,0,4.9,8.1,5.31,5.31,0,0,0,1,6.5,5.31,5.31,0,0,0,4.9,4.9,5.31,5.31,0,0,0,6.5,1,5.31,5.31,0,0,0,8.1,4.9,5.31,5.31,0,0,0,12,6.5,5.46,5.46,0,0,0,6.5,12Z\"/>\n",
              "  </svg>\n",
              "    </button>\n",
              "    <script>\n",
              "      (() => {\n",
              "      const buttonEl =\n",
              "        document.querySelector('#id_d7ef24a4-1f7d-40db-9499-50fb6e1b9368 button.colab-df-generate');\n",
              "      buttonEl.style.display =\n",
              "        google.colab.kernel.accessAllowed ? 'block' : 'none';\n",
              "\n",
              "      buttonEl.onclick = () => {\n",
              "        google.colab.notebook.generateWithVariable('summary_df');\n",
              "      }\n",
              "      })();\n",
              "    </script>\n",
              "  </div>\n",
              "\n",
              "    </div>\n",
              "  </div>\n"
            ],
            "application/vnd.google.colaboratory.intrinsic+json": {
              "type": "dataframe",
              "variable_name": "summary_df",
              "summary": "{\n  \"name\": \"summary_df\",\n  \"rows\": 15,\n  \"fields\": [\n    {\n      \"column\": \"INCIDENTZONE\",\n      \"properties\": {\n        \"dtype\": \"string\",\n        \"num_unique_values\": 8,\n        \"samples\": [\n          \"SDD\",\n          \"Zone 4\",\n          \"OSC\"\n        ],\n        \"semantic_type\": \"\",\n        \"description\": \"\"\n      }\n    },\n    {\n      \"column\": \"record_type\",\n      \"properties\": {\n        \"dtype\": \"category\",\n        \"num_unique_values\": 2,\n        \"samples\": [\n          \"Citation\",\n          \"Arrest\"\n        ],\n        \"semantic_type\": \"\",\n        \"description\": \"\"\n      }\n    },\n    {\n      \"column\": \"offenses_notna_count\",\n      \"properties\": {\n        \"dtype\": \"number\",\n        \"std\": 5143,\n        \"min\": 1,\n        \"max\": 14242,\n        \"num_unique_values\": 15,\n        \"samples\": [\n          7084,\n          13294\n        ],\n        \"semantic_type\": \"\",\n        \"description\": \"\"\n      }\n    },\n    {\n      \"column\": \"offenses_total_rows\",\n      \"properties\": {\n        \"dtype\": \"number\",\n        \"std\": 5143,\n        \"min\": 1,\n        \"max\": 14244,\n        \"num_unique_values\": 15,\n        \"samples\": [\n          7084,\n          13295\n        ],\n        \"semantic_type\": \"\",\n        \"description\": \"\"\n      }\n    },\n    {\n      \"column\": \"average_age\",\n      \"properties\": {\n        \"dtype\": \"number\",\n        \"std\": 5.171039454640759,\n        \"min\": 23.5,\n        \"max\": 47.0,\n        \"num_unique_values\": 15,\n        \"samples\": [\n          34.289144643364594,\n          33.943369121427494\n        ],\n        \"semantic_type\": \"\",\n        \"description\": \"\"\n      }\n    },\n    {\n      \"column\": \"minimum_age\",\n      \"properties\": {\n        \"dtype\": \"number\",\n        \"std\": 12.819999257113121,\n        \"min\": 0.0,\n        \"max\": 47.0,\n        \"num_unique_values\": 5,\n        \"samples\": [\n          18.0,\n          10.0\n        ],\n        \"semantic_type\": \"\",\n        \"description\": \"\"\n      }\n    },\n    {\n      \"column\": \"maximum_age\",\n      \"properties\": {\n        \"dtype\": \"number\",\n        \"std\": 323.850156414234,\n        \"min\": 30.0,\n        \"max\": 999.0,\n        \"num_unique_values\": 13,\n        \"samples\": [\n          88.0,\n          117.0\n        ],\n        \"semantic_type\": \"\",\n        \"description\": \"\"\n      }\n    }\n  ]\n}"
            }
          },
          "metadata": {},
          "execution_count": 33
        }
      ],
      "source": [
        "summary_df"
      ]
    },
    {
      "cell_type": "markdown",
      "metadata": {
        "id": "EGNc7SnLJJN9"
      },
      "source": [
        "## Filter the data to include only marijuana arrests between 2017 and 2022"
      ]
    },
    {
      "cell_type": "code",
      "execution_count": 34,
      "metadata": {
        "colab": {
          "base_uri": "https://localhost:8080/"
        },
        "id": "Tggthb4UJt9o",
        "outputId": "b33a3630-ef83-4c4f-ee81-028f46c225ff"
      },
      "outputs": [
        {
          "output_type": "execute_result",
          "data": {
            "text/plain": [
              "0    2016-08-24T12:20:00\n",
              "1    2016-08-03T14:55:00\n",
              "2    2016-08-03T16:45:00\n",
              "3    2016-08-05T02:36:00\n",
              "4    2016-08-06T02:00:00\n",
              "Name: TIME, dtype: object"
            ]
          },
          "metadata": {},
          "execution_count": 34
        }
      ],
      "source": [
        "df['TIME'].head()"
      ]
    },
    {
      "cell_type": "code",
      "execution_count": 35,
      "metadata": {
        "id": "8BeXRKXt8H8r"
      },
      "outputs": [],
      "source": [
        "subset_df = df[(df['TIME'] >= \"2017-01-01\") & (df['TIME'] <= \"2022-12-31\")].\\\n",
        "  reset_index().\\\n",
        "  copy()"
      ]
    },
    {
      "cell_type": "code",
      "execution_count": 36,
      "metadata": {
        "colab": {
          "base_uri": "https://localhost:8080/"
        },
        "id": "TEwnvaVFJt9o",
        "outputId": "daa78253-93b3-4c08-e8e6-13d012c911dd"
      },
      "outputs": [
        {
          "output_type": "execute_result",
          "data": {
            "text/plain": [
              "(69081, 19)"
            ]
          },
          "metadata": {},
          "execution_count": 36
        }
      ],
      "source": [
        "subset_df.shape"
      ]
    },
    {
      "cell_type": "markdown",
      "metadata": {
        "id": "MkY3gcgBKfNU"
      },
      "source": [
        "##### Filter by offenses"
      ]
    },
    {
      "cell_type": "code",
      "execution_count": 37,
      "metadata": {
        "id": "McG8qrcs8oJ8"
      },
      "outputs": [],
      "source": [
        "subset_df['marijuana_flag'] = [1 if ('marijuana' in str(x).lower()) | ('paraphernalia' in str(x).lower()) else 0 for x in subset_df['OFFENSES']]"
      ]
    },
    {
      "cell_type": "code",
      "execution_count": 38,
      "metadata": {
        "colab": {
          "base_uri": "https://localhost:8080/",
          "height": 573
        },
        "id": "mXjP4IjuJt9p",
        "outputId": "09204abf-a733-408a-eba9-40c03e00b355"
      },
      "outputs": [
        {
          "output_type": "execute_result",
          "data": {
            "text/plain": [
              "     index   _id       PK       CCR   AGE GENDER RACE                 TIME  \\\n",
              "17    3851  3852  1979466  16207605  54.0      M    B  2017-01-05T00:02:00   \n",
              "33    3927  3928  1979566  16235765  23.0      F    B  2017-01-09T17:00:00   \n",
              "64    4114  4115  1979812  16236311  15.0      M    B  2017-01-06T13:20:00   \n",
              "97    4189  4190  1979900  17000760  34.0      M    W  2017-01-02T09:12:00   \n",
              "116   4208  4209  1979939  17001618  20.0      M    B  2017-01-03T15:40:00   \n",
              "\n",
              "                               ARRESTLOCATION  \\\n",
              "17     5th AV & Pride ST Pittsburgh, PA 15219   \n",
              "33      900 Block 2nd AV Pittsburgh, PA 15219   \n",
              "64                                     Zone 2   \n",
              "97      10 Block 40th ST Pittsburgh, PA 15201   \n",
              "116  44th ST & Calvin ST Pittsburgh, PA 15201   \n",
              "\n",
              "                                              OFFENSES  \\\n",
              "17   4910 Tampering with or Fabricating Physical Ev...   \n",
              "33   4304(a)(1) Endangering Welfare of Children. / ...   \n",
              "64   5503 Disorderly Conduct. / 13(a)(31) Marijuana...   \n",
              "97   13(a)(16) Possession of Controlled Substance /...   \n",
              "116  13(a)(16) Possession of Controlled Substance /...   \n",
              "\n",
              "                                 INCIDENTLOCATION   INCIDENTNEIGHBORHOOD  \\\n",
              "17   2000 Block Wyandotte ST Pittsburgh, PA 15219       Crawford-Roberts   \n",
              "33         2000 Block 5th AV Pittsburgh, PA 15219                  Bluff   \n",
              "64                                         Zone 5                    NaN   \n",
              "97          10 Block 40th ST Pittsburgh, PA 15201  Central Lawrenceville   \n",
              "116      44th ST & Calvin ST Pittsburgh, PA 15201  Central Lawrenceville   \n",
              "\n",
              "    INCIDENTZONE INCIDENTTRACT  COUNCIL_DISTRICT  PUBLIC_WORKS_DIVISION  \\\n",
              "17        Zone 2         305.0               6.0                    3.0   \n",
              "33        Zone 2         103.0               6.0                    3.0   \n",
              "64        Zone 5           NaN               NaN                    NaN   \n",
              "97        Zone 2         901.0               7.0                    2.0   \n",
              "116       Zone 2         902.0               7.0                    2.0   \n",
              "\n",
              "             X          Y record_type  marijuana_flag  \n",
              "17  -79.977467  40.438224      Arrest               1  \n",
              "33  -79.977530  40.438003      Arrest               1  \n",
              "64         NaN        NaN      Arrest               1  \n",
              "97  -79.964880  40.470229      Arrest               1  \n",
              "116 -79.953776  40.466623      Arrest               1  "
            ],
            "text/html": [
              "\n",
              "  <div id=\"df-d10de907-e142-4fa4-babe-1629438c5c08\" class=\"colab-df-container\">\n",
              "    <div>\n",
              "<style scoped>\n",
              "    .dataframe tbody tr th:only-of-type {\n",
              "        vertical-align: middle;\n",
              "    }\n",
              "\n",
              "    .dataframe tbody tr th {\n",
              "        vertical-align: top;\n",
              "    }\n",
              "\n",
              "    .dataframe thead th {\n",
              "        text-align: right;\n",
              "    }\n",
              "</style>\n",
              "<table border=\"1\" class=\"dataframe\">\n",
              "  <thead>\n",
              "    <tr style=\"text-align: right;\">\n",
              "      <th></th>\n",
              "      <th>index</th>\n",
              "      <th>_id</th>\n",
              "      <th>PK</th>\n",
              "      <th>CCR</th>\n",
              "      <th>AGE</th>\n",
              "      <th>GENDER</th>\n",
              "      <th>RACE</th>\n",
              "      <th>TIME</th>\n",
              "      <th>ARRESTLOCATION</th>\n",
              "      <th>OFFENSES</th>\n",
              "      <th>INCIDENTLOCATION</th>\n",
              "      <th>INCIDENTNEIGHBORHOOD</th>\n",
              "      <th>INCIDENTZONE</th>\n",
              "      <th>INCIDENTTRACT</th>\n",
              "      <th>COUNCIL_DISTRICT</th>\n",
              "      <th>PUBLIC_WORKS_DIVISION</th>\n",
              "      <th>X</th>\n",
              "      <th>Y</th>\n",
              "      <th>record_type</th>\n",
              "      <th>marijuana_flag</th>\n",
              "    </tr>\n",
              "  </thead>\n",
              "  <tbody>\n",
              "    <tr>\n",
              "      <th>17</th>\n",
              "      <td>3851</td>\n",
              "      <td>3852</td>\n",
              "      <td>1979466</td>\n",
              "      <td>16207605</td>\n",
              "      <td>54.0</td>\n",
              "      <td>M</td>\n",
              "      <td>B</td>\n",
              "      <td>2017-01-05T00:02:00</td>\n",
              "      <td>5th AV &amp; Pride ST Pittsburgh, PA 15219</td>\n",
              "      <td>4910 Tampering with or Fabricating Physical Ev...</td>\n",
              "      <td>2000 Block Wyandotte ST Pittsburgh, PA 15219</td>\n",
              "      <td>Crawford-Roberts</td>\n",
              "      <td>Zone 2</td>\n",
              "      <td>305.0</td>\n",
              "      <td>6.0</td>\n",
              "      <td>3.0</td>\n",
              "      <td>-79.977467</td>\n",
              "      <td>40.438224</td>\n",
              "      <td>Arrest</td>\n",
              "      <td>1</td>\n",
              "    </tr>\n",
              "    <tr>\n",
              "      <th>33</th>\n",
              "      <td>3927</td>\n",
              "      <td>3928</td>\n",
              "      <td>1979566</td>\n",
              "      <td>16235765</td>\n",
              "      <td>23.0</td>\n",
              "      <td>F</td>\n",
              "      <td>B</td>\n",
              "      <td>2017-01-09T17:00:00</td>\n",
              "      <td>900 Block 2nd AV Pittsburgh, PA 15219</td>\n",
              "      <td>4304(a)(1) Endangering Welfare of Children. / ...</td>\n",
              "      <td>2000 Block 5th AV Pittsburgh, PA 15219</td>\n",
              "      <td>Bluff</td>\n",
              "      <td>Zone 2</td>\n",
              "      <td>103.0</td>\n",
              "      <td>6.0</td>\n",
              "      <td>3.0</td>\n",
              "      <td>-79.977530</td>\n",
              "      <td>40.438003</td>\n",
              "      <td>Arrest</td>\n",
              "      <td>1</td>\n",
              "    </tr>\n",
              "    <tr>\n",
              "      <th>64</th>\n",
              "      <td>4114</td>\n",
              "      <td>4115</td>\n",
              "      <td>1979812</td>\n",
              "      <td>16236311</td>\n",
              "      <td>15.0</td>\n",
              "      <td>M</td>\n",
              "      <td>B</td>\n",
              "      <td>2017-01-06T13:20:00</td>\n",
              "      <td>Zone 2</td>\n",
              "      <td>5503 Disorderly Conduct. / 13(a)(31) Marijuana...</td>\n",
              "      <td>Zone 5</td>\n",
              "      <td>NaN</td>\n",
              "      <td>Zone 5</td>\n",
              "      <td>NaN</td>\n",
              "      <td>NaN</td>\n",
              "      <td>NaN</td>\n",
              "      <td>NaN</td>\n",
              "      <td>NaN</td>\n",
              "      <td>Arrest</td>\n",
              "      <td>1</td>\n",
              "    </tr>\n",
              "    <tr>\n",
              "      <th>97</th>\n",
              "      <td>4189</td>\n",
              "      <td>4190</td>\n",
              "      <td>1979900</td>\n",
              "      <td>17000760</td>\n",
              "      <td>34.0</td>\n",
              "      <td>M</td>\n",
              "      <td>W</td>\n",
              "      <td>2017-01-02T09:12:00</td>\n",
              "      <td>10 Block 40th ST Pittsburgh, PA 15201</td>\n",
              "      <td>13(a)(16) Possession of Controlled Substance /...</td>\n",
              "      <td>10 Block 40th ST Pittsburgh, PA 15201</td>\n",
              "      <td>Central Lawrenceville</td>\n",
              "      <td>Zone 2</td>\n",
              "      <td>901.0</td>\n",
              "      <td>7.0</td>\n",
              "      <td>2.0</td>\n",
              "      <td>-79.964880</td>\n",
              "      <td>40.470229</td>\n",
              "      <td>Arrest</td>\n",
              "      <td>1</td>\n",
              "    </tr>\n",
              "    <tr>\n",
              "      <th>116</th>\n",
              "      <td>4208</td>\n",
              "      <td>4209</td>\n",
              "      <td>1979939</td>\n",
              "      <td>17001618</td>\n",
              "      <td>20.0</td>\n",
              "      <td>M</td>\n",
              "      <td>B</td>\n",
              "      <td>2017-01-03T15:40:00</td>\n",
              "      <td>44th ST &amp; Calvin ST Pittsburgh, PA 15201</td>\n",
              "      <td>13(a)(16) Possession of Controlled Substance /...</td>\n",
              "      <td>44th ST &amp; Calvin ST Pittsburgh, PA 15201</td>\n",
              "      <td>Central Lawrenceville</td>\n",
              "      <td>Zone 2</td>\n",
              "      <td>902.0</td>\n",
              "      <td>7.0</td>\n",
              "      <td>2.0</td>\n",
              "      <td>-79.953776</td>\n",
              "      <td>40.466623</td>\n",
              "      <td>Arrest</td>\n",
              "      <td>1</td>\n",
              "    </tr>\n",
              "  </tbody>\n",
              "</table>\n",
              "</div>\n",
              "    <div class=\"colab-df-buttons\">\n",
              "\n",
              "  <div class=\"colab-df-container\">\n",
              "    <button class=\"colab-df-convert\" onclick=\"convertToInteractive('df-d10de907-e142-4fa4-babe-1629438c5c08')\"\n",
              "            title=\"Convert this dataframe to an interactive table.\"\n",
              "            style=\"display:none;\">\n",
              "\n",
              "  <svg xmlns=\"http://www.w3.org/2000/svg\" height=\"24px\" viewBox=\"0 -960 960 960\">\n",
              "    <path d=\"M120-120v-720h720v720H120Zm60-500h600v-160H180v160Zm220 220h160v-160H400v160Zm0 220h160v-160H400v160ZM180-400h160v-160H180v160Zm440 0h160v-160H620v160ZM180-180h160v-160H180v160Zm440 0h160v-160H620v160Z\"/>\n",
              "  </svg>\n",
              "    </button>\n",
              "\n",
              "  <style>\n",
              "    .colab-df-container {\n",
              "      display:flex;\n",
              "      gap: 12px;\n",
              "    }\n",
              "\n",
              "    .colab-df-convert {\n",
              "      background-color: #E8F0FE;\n",
              "      border: none;\n",
              "      border-radius: 50%;\n",
              "      cursor: pointer;\n",
              "      display: none;\n",
              "      fill: #1967D2;\n",
              "      height: 32px;\n",
              "      padding: 0 0 0 0;\n",
              "      width: 32px;\n",
              "    }\n",
              "\n",
              "    .colab-df-convert:hover {\n",
              "      background-color: #E2EBFA;\n",
              "      box-shadow: 0px 1px 2px rgba(60, 64, 67, 0.3), 0px 1px 3px 1px rgba(60, 64, 67, 0.15);\n",
              "      fill: #174EA6;\n",
              "    }\n",
              "\n",
              "    .colab-df-buttons div {\n",
              "      margin-bottom: 4px;\n",
              "    }\n",
              "\n",
              "    [theme=dark] .colab-df-convert {\n",
              "      background-color: #3B4455;\n",
              "      fill: #D2E3FC;\n",
              "    }\n",
              "\n",
              "    [theme=dark] .colab-df-convert:hover {\n",
              "      background-color: #434B5C;\n",
              "      box-shadow: 0px 1px 3px 1px rgba(0, 0, 0, 0.15);\n",
              "      filter: drop-shadow(0px 1px 2px rgba(0, 0, 0, 0.3));\n",
              "      fill: #FFFFFF;\n",
              "    }\n",
              "  </style>\n",
              "\n",
              "    <script>\n",
              "      const buttonEl =\n",
              "        document.querySelector('#df-d10de907-e142-4fa4-babe-1629438c5c08 button.colab-df-convert');\n",
              "      buttonEl.style.display =\n",
              "        google.colab.kernel.accessAllowed ? 'block' : 'none';\n",
              "\n",
              "      async function convertToInteractive(key) {\n",
              "        const element = document.querySelector('#df-d10de907-e142-4fa4-babe-1629438c5c08');\n",
              "        const dataTable =\n",
              "          await google.colab.kernel.invokeFunction('convertToInteractive',\n",
              "                                                    [key], {});\n",
              "        if (!dataTable) return;\n",
              "\n",
              "        const docLinkHtml = 'Like what you see? Visit the ' +\n",
              "          '<a target=\"_blank\" href=https://colab.research.google.com/notebooks/data_table.ipynb>data table notebook</a>'\n",
              "          + ' to learn more about interactive tables.';\n",
              "        element.innerHTML = '';\n",
              "        dataTable['output_type'] = 'display_data';\n",
              "        await google.colab.output.renderOutput(dataTable, element);\n",
              "        const docLink = document.createElement('div');\n",
              "        docLink.innerHTML = docLinkHtml;\n",
              "        element.appendChild(docLink);\n",
              "      }\n",
              "    </script>\n",
              "  </div>\n",
              "\n",
              "\n",
              "<div id=\"df-101e7bd1-5e45-4236-9042-20f5689ff6fd\">\n",
              "  <button class=\"colab-df-quickchart\" onclick=\"quickchart('df-101e7bd1-5e45-4236-9042-20f5689ff6fd')\"\n",
              "            title=\"Suggest charts\"\n",
              "            style=\"display:none;\">\n",
              "\n",
              "<svg xmlns=\"http://www.w3.org/2000/svg\" height=\"24px\"viewBox=\"0 0 24 24\"\n",
              "     width=\"24px\">\n",
              "    <g>\n",
              "        <path d=\"M19 3H5c-1.1 0-2 .9-2 2v14c0 1.1.9 2 2 2h14c1.1 0 2-.9 2-2V5c0-1.1-.9-2-2-2zM9 17H7v-7h2v7zm4 0h-2V7h2v10zm4 0h-2v-4h2v4z\"/>\n",
              "    </g>\n",
              "</svg>\n",
              "  </button>\n",
              "\n",
              "<style>\n",
              "  .colab-df-quickchart {\n",
              "      --bg-color: #E8F0FE;\n",
              "      --fill-color: #1967D2;\n",
              "      --hover-bg-color: #E2EBFA;\n",
              "      --hover-fill-color: #174EA6;\n",
              "      --disabled-fill-color: #AAA;\n",
              "      --disabled-bg-color: #DDD;\n",
              "  }\n",
              "\n",
              "  [theme=dark] .colab-df-quickchart {\n",
              "      --bg-color: #3B4455;\n",
              "      --fill-color: #D2E3FC;\n",
              "      --hover-bg-color: #434B5C;\n",
              "      --hover-fill-color: #FFFFFF;\n",
              "      --disabled-bg-color: #3B4455;\n",
              "      --disabled-fill-color: #666;\n",
              "  }\n",
              "\n",
              "  .colab-df-quickchart {\n",
              "    background-color: var(--bg-color);\n",
              "    border: none;\n",
              "    border-radius: 50%;\n",
              "    cursor: pointer;\n",
              "    display: none;\n",
              "    fill: var(--fill-color);\n",
              "    height: 32px;\n",
              "    padding: 0;\n",
              "    width: 32px;\n",
              "  }\n",
              "\n",
              "  .colab-df-quickchart:hover {\n",
              "    background-color: var(--hover-bg-color);\n",
              "    box-shadow: 0 1px 2px rgba(60, 64, 67, 0.3), 0 1px 3px 1px rgba(60, 64, 67, 0.15);\n",
              "    fill: var(--button-hover-fill-color);\n",
              "  }\n",
              "\n",
              "  .colab-df-quickchart-complete:disabled,\n",
              "  .colab-df-quickchart-complete:disabled:hover {\n",
              "    background-color: var(--disabled-bg-color);\n",
              "    fill: var(--disabled-fill-color);\n",
              "    box-shadow: none;\n",
              "  }\n",
              "\n",
              "  .colab-df-spinner {\n",
              "    border: 2px solid var(--fill-color);\n",
              "    border-color: transparent;\n",
              "    border-bottom-color: var(--fill-color);\n",
              "    animation:\n",
              "      spin 1s steps(1) infinite;\n",
              "  }\n",
              "\n",
              "  @keyframes spin {\n",
              "    0% {\n",
              "      border-color: transparent;\n",
              "      border-bottom-color: var(--fill-color);\n",
              "      border-left-color: var(--fill-color);\n",
              "    }\n",
              "    20% {\n",
              "      border-color: transparent;\n",
              "      border-left-color: var(--fill-color);\n",
              "      border-top-color: var(--fill-color);\n",
              "    }\n",
              "    30% {\n",
              "      border-color: transparent;\n",
              "      border-left-color: var(--fill-color);\n",
              "      border-top-color: var(--fill-color);\n",
              "      border-right-color: var(--fill-color);\n",
              "    }\n",
              "    40% {\n",
              "      border-color: transparent;\n",
              "      border-right-color: var(--fill-color);\n",
              "      border-top-color: var(--fill-color);\n",
              "    }\n",
              "    60% {\n",
              "      border-color: transparent;\n",
              "      border-right-color: var(--fill-color);\n",
              "    }\n",
              "    80% {\n",
              "      border-color: transparent;\n",
              "      border-right-color: var(--fill-color);\n",
              "      border-bottom-color: var(--fill-color);\n",
              "    }\n",
              "    90% {\n",
              "      border-color: transparent;\n",
              "      border-bottom-color: var(--fill-color);\n",
              "    }\n",
              "  }\n",
              "</style>\n",
              "\n",
              "  <script>\n",
              "    async function quickchart(key) {\n",
              "      const quickchartButtonEl =\n",
              "        document.querySelector('#' + key + ' button');\n",
              "      quickchartButtonEl.disabled = true;  // To prevent multiple clicks.\n",
              "      quickchartButtonEl.classList.add('colab-df-spinner');\n",
              "      try {\n",
              "        const charts = await google.colab.kernel.invokeFunction(\n",
              "            'suggestCharts', [key], {});\n",
              "      } catch (error) {\n",
              "        console.error('Error during call to suggestCharts:', error);\n",
              "      }\n",
              "      quickchartButtonEl.classList.remove('colab-df-spinner');\n",
              "      quickchartButtonEl.classList.add('colab-df-quickchart-complete');\n",
              "    }\n",
              "    (() => {\n",
              "      let quickchartButtonEl =\n",
              "        document.querySelector('#df-101e7bd1-5e45-4236-9042-20f5689ff6fd button');\n",
              "      quickchartButtonEl.style.display =\n",
              "        google.colab.kernel.accessAllowed ? 'block' : 'none';\n",
              "    })();\n",
              "  </script>\n",
              "</div>\n",
              "\n",
              "    </div>\n",
              "  </div>\n"
            ],
            "application/vnd.google.colaboratory.intrinsic+json": {
              "type": "dataframe",
              "repr_error": "'str' object has no attribute 'empty'"
            }
          },
          "metadata": {},
          "execution_count": 38
        }
      ],
      "source": [
        "subset_df.loc[subset_df['marijuana_flag'] == 1].head()"
      ]
    },
    {
      "cell_type": "code",
      "execution_count": 39,
      "metadata": {
        "colab": {
          "base_uri": "https://localhost:8080/"
        },
        "id": "oOzFgBVTQm6f",
        "outputId": "487dc34f-1664-4e2c-d6bd-f7985efc96ef"
      },
      "outputs": [
        {
          "output_type": "execute_result",
          "data": {
            "text/plain": [
              "(12612, 20)"
            ]
          },
          "metadata": {},
          "execution_count": 39
        }
      ],
      "source": [
        "subset_df.loc[subset_df['marijuana_flag'] == 1].shape"
      ]
    },
    {
      "cell_type": "code",
      "execution_count": 40,
      "metadata": {
        "id": "Iih5bjDfJt9p"
      },
      "outputs": [],
      "source": [
        "mj_df = subset_df.loc[subset_df['marijuana_flag'] == 1].copy()"
      ]
    },
    {
      "cell_type": "code",
      "execution_count": 41,
      "metadata": {
        "id": "u9zx-1u_-FoM"
      },
      "outputs": [],
      "source": [
        "mj_df = subset_df.loc[subset_df['marijuana_flag'] == 1].copy()"
      ]
    },
    {
      "cell_type": "code",
      "execution_count": 42,
      "metadata": {
        "colab": {
          "base_uri": "https://localhost:8080/"
        },
        "id": "ZMiaPYzCJt9p",
        "outputId": "47f83e65-fda3-417a-87fb-ea03fbb15c30"
      },
      "outputs": [
        {
          "output_type": "execute_result",
          "data": {
            "text/plain": [
              "(12612, 20)"
            ]
          },
          "metadata": {},
          "execution_count": 42
        }
      ],
      "source": [
        "mj_df.shape"
      ]
    },
    {
      "cell_type": "code",
      "execution_count": 43,
      "metadata": {
        "id": "VfL1O-2Xb5fF"
      },
      "outputs": [],
      "source": [
        "mj_df.to_csv('/content/drive/MyDrive/Colab Notebooks/marijuana_arrests_and_citations_2017_thru_2022.csv', index=False)"
      ]
    },
    {
      "cell_type": "code",
      "execution_count": 43,
      "metadata": {
        "id": "wnQJiU6Gx0Et"
      },
      "outputs": [],
      "source": []
    }
  ],
  "metadata": {
    "colab": {
      "provenance": []
    },
    "kernelspec": {
      "display_name": "Python 3 (ipykernel)",
      "language": "python",
      "name": "python3"
    },
    "language_info": {
      "codemirror_mode": {
        "name": "ipython",
        "version": 3
      },
      "file_extension": ".py",
      "mimetype": "text/x-python",
      "name": "python",
      "nbconvert_exporter": "python",
      "pygments_lexer": "ipython3",
      "version": "3.9.12"
    }
  },
  "nbformat": 4,
  "nbformat_minor": 0
}