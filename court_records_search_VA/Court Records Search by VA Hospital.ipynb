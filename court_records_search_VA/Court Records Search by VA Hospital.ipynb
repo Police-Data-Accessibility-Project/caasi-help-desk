{
 "cells": [
  {
   "cell_type": "code",
   "id": "initial_id",
   "metadata": {
    "collapsed": true,
    "ExecuteTime": {
     "end_time": "2024-12-03T17:31:53.221109Z",
     "start_time": "2024-12-03T17:31:53.179831Z"
    }
   },
   "source": [
    "#Import necessary package for reading Excel files\n",
    "import openpyxl\n",
    "from openpyxl.reader.excel import load_workbook\n",
    "tracker = load_workbook('Court Records Search by VA Hospital.xlsx')\n",
    "a1=tracker.cell(row=1, column=1)\n"
   ],
   "outputs": [
    {
     "ename": "AttributeError",
     "evalue": "'Workbook' object has no attribute 'cell'",
     "output_type": "error",
     "traceback": [
      "\u001B[0;31m---------------------------------------------------------------------------\u001B[0m",
      "\u001B[0;31mAttributeError\u001B[0m                            Traceback (most recent call last)",
      "Cell \u001B[0;32mIn[9], line 5\u001B[0m\n\u001B[1;32m      3\u001B[0m \u001B[38;5;28;01mfrom\u001B[39;00m \u001B[38;5;21;01mopenpyxl\u001B[39;00m\u001B[38;5;21;01m.\u001B[39;00m\u001B[38;5;21;01mreader\u001B[39;00m\u001B[38;5;21;01m.\u001B[39;00m\u001B[38;5;21;01mexcel\u001B[39;00m \u001B[38;5;28;01mimport\u001B[39;00m load_workbook\n\u001B[1;32m      4\u001B[0m tracker \u001B[38;5;241m=\u001B[39m load_workbook(\u001B[38;5;124m'\u001B[39m\u001B[38;5;124mCourt Records Search by VA Hospital.xlsx\u001B[39m\u001B[38;5;124m'\u001B[39m)\n\u001B[0;32m----> 5\u001B[0m a1\u001B[38;5;241m=\u001B[39m\u001B[43mtracker\u001B[49m\u001B[38;5;241;43m.\u001B[39;49m\u001B[43mcell\u001B[49m(row\u001B[38;5;241m=\u001B[39m\u001B[38;5;241m1\u001B[39m, column\u001B[38;5;241m=\u001B[39m\u001B[38;5;241m1\u001B[39m)\n",
      "\u001B[0;31mAttributeError\u001B[0m: 'Workbook' object has no attribute 'cell'"
     ]
    }
   ],
   "execution_count": 9
  }
 ],
 "metadata": {
  "kernelspec": {
   "display_name": "Python 3",
   "language": "python",
   "name": "python3"
  },
  "language_info": {
   "codemirror_mode": {
    "name": "ipython",
    "version": 2
   },
   "file_extension": ".py",
   "mimetype": "text/x-python",
   "name": "python",
   "nbconvert_exporter": "python",
   "pygments_lexer": "ipython2",
   "version": "2.7.6"
  }
 },
 "nbformat": 4,
 "nbformat_minor": 5
}
